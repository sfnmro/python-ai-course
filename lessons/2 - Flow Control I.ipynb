{
 "cells": [
  {
   "cell_type": "markdown",
   "id": "italic-editor",
   "metadata": {},
   "source": [
    "# Control Flow    \n",
    "Let`s go with the flow"
   ]
  },
  {
   "cell_type": "markdown",
   "id": "63c618c2",
   "metadata": {},
   "source": [
    "![](https://media.makeameme.org/created/im-just-going-ca4ce2c899.jpg)"
   ]
  },
  {
   "cell_type": "markdown",
   "id": "143f947d",
   "metadata": {
    "lang": "en"
   },
   "source": [
    "## Arithmetic operators"
   ]
  },
  {
   "cell_type": "markdown",
   "id": "9aecbca0",
   "metadata": {
    "lang": "en"
   },
   "source": [
    "Arithmetic operators are used to perform arithmetic operations, that is, to manipulate numerical data through mathematical operations such as addition, subtraction or multiplication..."
   ]
  },
  {
   "cell_type": "code",
   "execution_count": null,
   "id": "8b428e9f",
   "metadata": {},
   "outputs": [],
   "source": [
    "a = 10\n",
    "b = 2"
   ]
  },
  {
   "cell_type": "code",
   "execution_count": null,
   "id": "acf7670d",
   "metadata": {},
   "outputs": [],
   "source": [
    "a + b"
   ]
  },
  {
   "cell_type": "code",
   "execution_count": null,
   "id": "6ce9df2d",
   "metadata": {},
   "outputs": [],
   "source": [
    "a * b"
   ]
  },
  {
   "cell_type": "markdown",
   "id": "7dae48c3",
   "metadata": {},
   "source": [
    "`+`, `*`, bla bla bla"
   ]
  },
  {
   "cell_type": "markdown",
   "id": "71a92117",
   "metadata": {
    "lang": "en"
   },
   "source": [
    "## Relational operators"
   ]
  },
  {
   "cell_type": "markdown",
   "id": "38d5146c",
   "metadata": {
    "lang": "en"
   },
   "source": [
    "Relational operators are symbols used to compare two values ​​or expressions. The result of the evaluation with these two operators can be True, if the comparison is true, or False, if the comparison is false."
   ]
  },
  {
   "cell_type": "markdown",
   "id": "b7d7c2b5",
   "metadata": {
    "lang": "en"
   },
   "source": [
    "* `==` Equal to `a==b`\n",
    "* `!=` Not equal to `a!=b`\n",
    "* `>` Greater than `a>b`\n",
    "* `<` Lesser than `a<b` \n",
    "* `>=` Greater than or equal to `a>=b`\n",
    "* `<=` Less than or equal to `a<=b`"
   ]
  },
  {
   "cell_type": "markdown",
   "id": "6bb2bc2a",
   "metadata": {
    "lang": "en"
   },
   "source": [
    "Note the difference between a single equals sign (=), which is an assignment, and a double equals sign (==), which is a relational operator\n",
    "\n",
    "**Hint: Use parentheses to maintain the order of operations."
   ]
  },
  {
   "cell_type": "code",
   "execution_count": null,
   "id": "ac9ccfb3",
   "metadata": {},
   "outputs": [],
   "source": [
    "a = 10"
   ]
  },
  {
   "cell_type": "code",
   "execution_count": null,
   "id": "6e28aea1",
   "metadata": {},
   "outputs": [],
   "source": [
    "a == 10"
   ]
  },
  {
   "cell_type": "code",
   "execution_count": null,
   "id": "c00bf648",
   "metadata": {},
   "outputs": [],
   "source": [
    "a != 10"
   ]
  },
  {
   "cell_type": "code",
   "execution_count": null,
   "id": "3dde583b",
   "metadata": {},
   "outputs": [],
   "source": [
    "a > b"
   ]
  },
  {
   "cell_type": "code",
   "execution_count": null,
   "id": "4efdcce8",
   "metadata": {},
   "outputs": [],
   "source": [
    "a < b"
   ]
  },
  {
   "cell_type": "code",
   "execution_count": null,
   "id": "16a5b605",
   "metadata": {},
   "outputs": [],
   "source": [
    "a <= b"
   ]
  },
  {
   "cell_type": "code",
   "execution_count": null,
   "id": "de053fec",
   "metadata": {},
   "outputs": [],
   "source": [
    "b <= a"
   ]
  },
  {
   "cell_type": "markdown",
   "id": "0bf8a056",
   "metadata": {
    "lang": "en"
   },
   "source": [
    "With just these two `True`|`False` values ​​we can create a whole branch of mathematics called [Boolean Algebra](https://en.wikipedia.org/wiki/Boolean_algebra#Laws). While in regular Algebra the basic operations are addition and multiplication, the main operations in Boolean Algebra are conjunction (and), disjunction (or), and negation (not). **It is the formalism used to describe the logical operations**.\n",
    "\n",
    "In [Python we write these operations](https://www.geeksforgeeks.org/python-3-logical-operators/?ref=rp) as:\n",
    "\n",
    "- `==`\n",
    "* `x` and `y`\n",
    "* `x` or `y`\n",
    "* not `x`\n",
    "* Extra: `^` [caret operator](https://stackoverflow.com/questions/2451386/what-does-the-caret-operator-do)\n",
    "\n",
    "Although the meaning of these operations is clear, we can fully define them with the so-called \"truth table\":"
   ]
  },
  {
   "cell_type": "markdown",
   "id": "coral-armenia",
   "metadata": {},
   "source": [
    "![tablas](http://elclubdelautodidacta.es/wp/wp-content/uploads/2012/11/python-logicos.png)"
   ]
  },
  {
   "cell_type": "markdown",
   "id": "c39be317",
   "metadata": {
    "lang": "en"
   },
   "source": [
    "We can also include the EXCLUSIVE OR, which is true when one and only one of the operands is true, but strictly you must know that it is derived from the three basic ones. Its representation is ^, the hat or caret."
   ]
  },
  {
   "cell_type": "markdown",
   "id": "attended-assurance",
   "metadata": {},
   "source": [
    "# Loops an stuff\n",
    "![](https://i1.sndcdn.com/artworks-SvzDuFfyt3AJ9fO1-iQrV9Q-t500x500.jpg)"
   ]
  },
  {
   "cell_type": "markdown",
   "id": "3e0ac95f",
   "metadata": {
    "lang": "en"
   },
   "source": [
    "In programming, a **loop** is a fundamental concept that allows a block of code to be repeated multiple times. It facilitates the execution of repetitive tasks without needing to write the same lines of code over and over again, promoting both efficiency and readability. The basic idea is to loop through a block of code as long as a specified condition remains true.\n",
    "\n",
    "There are generally two types of loops you'll encounter:\n",
    "\n",
    "1. **For Loop**: Generally used to iterate over a collection of items, such as elements in a list, tuple, or string. It will execute a block of code for each item in the collection, hence making it simpler and cleaner to perform the same action on multiple items.\n",
    "\n",
    "2. **While Loop**: This type of loop continues to execute a block of code as long as a particular condition is met. It's crucial to update the variables influencing the condition inside the loop, to avoid creating an infinite loop.\n",
    "\n",
    "Loops are incredibly powerful tools in programming, helping to save time and reduce the potential for errors in your code. As you progress in your learning, you will find loops are essential components in many programming solutions, facilitating the creation of complex, efficient, and innovative solutions to a wide range of problems.\n",
    "\n",
    "In the following sections, we will explore both types of loops in more detail, with examples to illustrate their usage and versatility in programming tasks.\n",
    "\n",
    "Happy looping!"
   ]
  },
  {
   "cell_type": "code",
   "execution_count": null,
   "id": "89f2329b",
   "metadata": {
    "scrolled": true
   },
   "outputs": [],
   "source": [
    "for i in range(1, 6):\n",
    "    print(i)"
   ]
  },
  {
   "cell_type": "code",
   "execution_count": null,
   "id": "9fdcf991",
   "metadata": {},
   "outputs": [],
   "source": [
    "# play here with range"
   ]
  },
  {
   "cell_type": "markdown",
   "id": "fee3afff",
   "metadata": {},
   "source": [
    "Let's do more complex stuff:"
   ]
  },
  {
   "cell_type": "code",
   "execution_count": null,
   "id": "23dd3aa0",
   "metadata": {
    "scrolled": true
   },
   "outputs": [],
   "source": [
    "# This is the original list of lists where each element is a list containing integers.\n",
    "original = [[1, 2], [3], [5, 6, 9]]\n",
    "\n",
    "# A new empty list is initialized to store the individual elements after flattening the original list.\n",
    "new_list = []\n",
    "\n",
    "# The outer loop iterates through each individual list inside the original list.\n",
    "for individual_list in original:\n",
    "    # The inner loop iterates through each element in the currently selected individual list (from the outer loop).\n",
    "    for each_element in individual_list:\n",
    "        # The current element from the individual list is appended to the new list.\n",
    "        new_list.append(each_element)\n",
    "\n",
    "# Printing the new_list to see the final output.\n",
    "print(new_list)"
   ]
  },
  {
   "cell_type": "markdown",
   "id": "8a77f835",
   "metadata": {},
   "source": [
    "Debug what is happenin:"
   ]
  },
  {
   "cell_type": "code",
   "execution_count": null,
   "id": "a36780d7",
   "metadata": {},
   "outputs": [],
   "source": [
    "# We are defining a list named 'bigger_list' which contains several other lists, one of which is nested\n",
    "bigger_list = [[1, 2], [3], [5, 6, 9, [1, 2]]]\n",
    "\n",
    "# We are initiating a for loop to iterate over each 'small_list' present within the 'bigger_list'\n",
    "for small_list in bigger_list:\n",
    "    # Inside the loop, we are printing the current 'small_list' that the loop is iterating over\n",
    "    print(small_list)\n",
    "    # Once the end of the loop is reached, it goes back to the start to process the next 'small_list' in the 'bigger_list'"
   ]
  },
  {
   "cell_type": "markdown",
   "id": "0eaad548",
   "metadata": {
    "lang": "en"
   },
   "source": [
    "## The \"If\" statement\n",
    "This is the most popular option to control the flow of a program. Conditions allow you to choose between different paths depending on the value of an expression. When you want to execute an action only when some condition is `True`, an \"if\" statement is used:"
   ]
  },
  {
   "cell_type": "markdown",
   "id": "580479b3",
   "metadata": {},
   "source": [
    "#### Syntax things to consider:\n",
    "- indentation: `tab / 5 spaces`\n",
    "- colon: `:`\n"
   ]
  },
  {
   "cell_type": "code",
   "execution_count": null,
   "id": "ef3ac3be",
   "metadata": {},
   "outputs": [],
   "source": [
    "age = 20\n",
    "\n",
    "if age >= 21:\n",
    "    print(\"Adult\")"
   ]
  },
  {
   "cell_type": "markdown",
   "id": "305e83a6",
   "metadata": {
    "lang": "en"
   },
   "source": [
    "As we can see, the code block associated with the condition begins after the colon \":\", with an indentation that determines the code block. All statements belonging to the same block must have the same indentation. The block ends when the indent returns to the starting position of the if statement. Remember that Python uses indentation to identify blocks of code."
   ]
  },
  {
   "cell_type": "markdown",
   "id": "baa11a80",
   "metadata": {
    "lang": "en"
   },
   "source": [
    "### elif\n",
    "Sometimes there are more than two possibilities. Think of something like:\n",
    "\"If Bob can get into the disco, let him in. If not, if he's over 16, recommend the nearby light disco. If not, send him home.\"\n",
    "\n",
    "We can achieve this with the `elif` clause and chained conditionals:"
   ]
  },
  {
   "cell_type": "code",
   "execution_count": null,
   "id": "82badc29",
   "metadata": {},
   "outputs": [],
   "source": [
    "age = 20\n",
    "\n",
    "if age >= 21:\n",
    "    print(\"Adult\")\n",
    "    \n",
    "elif age < 21:\n",
    "    print(\"Not an adult\")"
   ]
  },
  {
   "cell_type": "markdown",
   "id": "770fbd1a",
   "metadata": {
    "lang": "en"
   },
   "source": [
    "### else\n",
    "Sometimes you want if the condition is not met (and only then) another action is executed. They are mutually exclusive actions. This is achieved with the `else` statement."
   ]
  },
  {
   "cell_type": "markdown",
   "id": "median-injection",
   "metadata": {},
   "source": [
    "![if](https://www.tutorialspoint.com/scala/images/scala_decision_making.jpg)"
   ]
  },
  {
   "cell_type": "code",
   "execution_count": null,
   "id": "5c7a1210",
   "metadata": {},
   "outputs": [],
   "source": [
    "age = 14\n",
    "\n",
    "if age >= 21:\n",
    "    print(\"Adult\")\n",
    "    \n",
    "elif age >= 16 and age < 21:\n",
    "    print(\"Not an adult\")\n",
    "    \n",
    "else:\n",
    "    print(\"not condition 1, not condition 2\")"
   ]
  },
  {
   "cell_type": "markdown",
   "id": "50d43411",
   "metadata": {},
   "source": [
    "In Python programming, a nested if statement is an if statement that is the target of another if statement. Nested if statements mean an if statement inside another if statement. Yes, Python allows us to nest if statements within if statements. Here is the general form of a nested if statement."
   ]
  },
  {
   "cell_type": "code",
   "execution_count": null,
   "id": "36b1c6ee",
   "metadata": {},
   "outputs": [],
   "source": [
    "# 1. Takes the input of a user (controlling it's an int)\n",
    "age = int(input(\"Please input your age: \"))\n",
    "\n",
    "# 2. Based on conditions: return something or something else\n",
    "if age > 0:\n",
    "    if age < 16:\n",
    "        print(\"You CANNOT get in\")\n",
    "\n",
    "    elif age >= 16 and age < 18:\n",
    "        print(\"Alcohol free club\")\n",
    "\n",
    "\n",
    "    elif age >= 18:\n",
    "        print(\"You can get in\")\n",
    "        \n",
    "else:\n",
    "    print(\"Sorry, wrong info: negative value?\")"
   ]
  },
  {
   "cell_type": "code",
   "execution_count": null,
   "id": "413a3013",
   "metadata": {},
   "outputs": [],
   "source": [
    "# IF & IF: when more than condition can be met at ONCE\n",
    "    # all the ifs are read\n",
    "    # aaaaal the ifs will be read\n",
    "    \n",
    "# IF & ELIFS: when only one should be met\n",
    "    # only the needed ones are read\n",
    "    # better: more conservative"
   ]
  },
  {
   "cell_type": "markdown",
   "id": "toxic-romance",
   "metadata": {},
   "source": [
    "## Further materials\n",
    "\n",
    "* [Python docs](https://docs.python.org/3/tutorial/controlflow.html)\n",
    "* Short tutorial on [Python Booleans](https://realpython.com/python-boolean/)\n",
    "* Just a nice [talk by Feynman](https://www.youtube.com/watch?v=EKWGGDXe5MA) on the principles of computation"
   ]
  }
 ],
 "metadata": {
  "kernelspec": {
   "display_name": "Python 3 (ipykernel)",
   "language": "python",
   "name": "python3"
  },
  "language_info": {
   "codemirror_mode": {
    "name": "ipython",
    "version": 3
   },
   "file_extension": ".py",
   "mimetype": "text/x-python",
   "name": "python",
   "nbconvert_exporter": "python",
   "pygments_lexer": "ipython3",
   "version": "3.9.13"
  },
  "nbTranslate": {
   "displayLangs": [
    "en",
    "es"
   ],
   "hotkey": "alt-a",
   "langInMainMenu": true,
   "sourceLang": "es",
   "targetLang": "en",
   "useGoogleTranslate": true
  },
  "toc": {
   "base_numbering": 1,
   "nav_menu": {},
   "number_sections": true,
   "sideBar": true,
   "skip_h1_title": true,
   "title_cell": "Table of Contents",
   "title_sidebar": "Contents",
   "toc_cell": true,
   "toc_position": {
    "height": "calc(100% - 180px)",
    "left": "10px",
    "top": "150px",
    "width": "165px"
   },
   "toc_section_display": true,
   "toc_window_display": true
  }
 },
 "nbformat": 4,
 "nbformat_minor": 5
}