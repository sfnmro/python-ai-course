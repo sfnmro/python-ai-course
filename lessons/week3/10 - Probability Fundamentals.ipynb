{
 "cells": [
  {
   "cell_type": "markdown",
   "metadata": {},
   "source": [
    "# Probability Fundamentals"
   ]
  },
  {
   "cell_type": "markdown",
   "metadata": {},
   "source": [
    "## Table of Contents\n",
    "\n",
    "### Introduction\n",
    " A First Glimpse into Conditional Probability**: Introducing the concept of conditional probability in data analysis.\n",
    "\n",
    "### Probabilities\n",
    "Understanding the fundamentals of probability, an essential part of statistical analysis.\n",
    "* **4.1 Probability Rules**: Covering the basic rules and principles that govern the concept of probability.\n",
    "* **4.2 Binomial Distribution**: Exploring the binomial distribution, a key concept in probability theory.\n",
    "* **4.3 Central Limit Theorem**: Understanding of the central limit theorem and its importance in statistics.\n",
    "* **4.4 Monte Carlo Simulations**: Implementing Monte Carlo methods to understand complex systems and uncertainty."
   ]
  },
  {
   "cell_type": "code",
   "execution_count": 2,
   "metadata": {},
   "outputs": [
    {
     "name": "stdout",
     "output_type": "stream",
     "text": [
      "First record: [1, 39, 1, 1]\n",
      "The number of entries is: 13593\n"
     ]
    }
   ],
   "source": [
    "# --------------------------------------------------------------------------------\n",
    "    # YOU DON'T NEED TO UNDERSTAND HOW TO OPEN THIS FILE, BUT I LEAVE THE CODE FOR YOU\n",
    "# --------------------------------------------------------------------------------\n",
    "\n",
    "# Function to convert a string to an integer.\n",
    "# If the string is empty or contains only spaces, it returns 0.\n",
    "def chr_int(a):\n",
    "    if a.strip() == '':  # Check if the string is empty or spaces\n",
    "        return 0\n",
    "    else:\n",
    "        return int(a)    # Convert the string to an integer\n",
    "\n",
    "# Try to open the file and read its contents\n",
    "try:\n",
    "    # Open the file using 'with' statement for better resource management\n",
    "    with open('files/2002FemPreg.dat', 'r') as file:\n",
    "        preg = []  # Initialize an empty list to store the data\n",
    "\n",
    "        # Iterate over each line in the file\n",
    "        for line in file:\n",
    "            try:\n",
    "                # Extract specific fields from the line using string slicing\n",
    "                # and convert them to integers. If slicing goes wrong, ValueError will be raised\n",
    "                record = [int(line[:12]), int(line[274:276]), int(line[276]), chr_int(line[277:279])]\n",
    "                preg.append(record)  # Append the processed record to the list\n",
    "            except ValueError as e:  # Catch and handle ValueError\n",
    "                print(f\"Error processing line: {line}\")\n",
    "                print(f\"Error message: {e}\")\n",
    "                # You can choose to break, continue, or pass based on your error handling preference\n",
    "\n",
    "    # Print the first record and the total number of records for verification\n",
    "    print('First record:', preg[0])\n",
    "    print('The number of entries is:', len(preg))\n",
    "\n",
    "except FileNotFoundError:  # Catch and handle the FileNotFoundError\n",
    "    print(\"File not found. Please check the file path.\")"
   ]
  },
  {
   "cell_type": "code",
   "execution_count": 8,
   "metadata": {},
   "outputs": [],
   "source": [
    "# Importing the pandas library\n",
    "import pandas as pd\n",
    "import seaborn as sns\n",
    "\n",
    "# Creating a DataFrame from the 'preg' list\n",
    "df = pd.DataFrame(preg)\n",
    "\n",
    "# Assigning column names to the DataFrame for clarity\n",
    "df.columns = ['caseId', 'prgLength', 'outcome', 'birthOrd']"
   ]
  },
  {
   "cell_type": "code",
   "execution_count": 4,
   "metadata": {},
   "outputs": [],
   "source": [
    "df2 = df.drop(df.index[(df.outcome == 1) & \n",
    "                       (df['prgLength'] > df['prgLength'].median() + 6)])\n",
    "\n",
    "df3 = df2.drop(df2.index[(df2.outcome == 1) & \n",
    "                         (df2['prgLength'] < df2['prgLength'].median() - 10)])"
   ]
  },
  {
   "cell_type": "markdown",
   "metadata": {},
   "source": [
    "### Theoretical Background on Conditional Probability\n",
    "\n",
    "Conditional probability is a measure of the probability of an event occurring, given that another event has already occurred. This concept is essential in probability theory and statistics, allowing for more accurate predictions and analyses in various contexts.\n",
    "\n",
    "The conditional probability of an event $( A )$ given that event $( B )$ has occurred is denoted as $P(A|B)$ and is calculated using the formula:\n",
    "\n",
    "$ P(A|B) = \\frac{P(A \\cap B)}{P(B)} $\n",
    "\n",
    "Here, $ P(A \\cap B) $ is the probability of both $( A )$ and $( B )$ occurring, and $( P(B) )$ is the probability of $( B )$ occurring.\n",
    "\n",
    "![](https://assets.tivadardanka.com/2022_10_conditional_probability_featured_c9d47cc379.jpg)\n",
    "\n",
    "### Applying Conditional Probability to Birth Timing\n",
    "\n",
    "In the scenario of birth timing, we consider two specific questions:\n",
    "\n",
    "#### Question 1: Probability of Birth in Week 39\n",
    "\n",
    "- **Event X**: The baby is born in week 39.\n",
    "- **Event Y**: The baby hasn't been born during weeks 0-38.\n",
    "- To calculate $( P(X|Y) )$, the probability of the baby being born in week 39 given it hasn't been born by week 38, we need to consider the proportion of births that happen in week 39 out of all births that have not occurred before week 39.\n",
    "\n",
    "#### Question 2: Probability for a First Baby\n",
    "\n",
    "- **Event Y** now also includes the condition that it's a first baby.\n",
    "- The conditional probability $( P(X|Y) )$ may change because the birth patterns for first-time births can differ from subsequent births.\n",
    "\n",
    "### Detailed Explanation\n",
    "\n",
    "1. **Calculation for General Births:**\n",
    "    - If data indicates that, for example, 70% of babies not born by week 38 are born in week 39, then $( P(X|Y) = 70\\% )$.\n",
    "\n",
    "2. **Calculation for First-Time Births:**\n",
    "    - If the likelihood changes for first babies, and the data shows 80% of first babies not born by week 38 are born in week 39, then $( P(X|Y) = 80\\% )$ for first babies.\n",
    "\n",
    "3. **Implications in Real-World Contexts:**\n",
    "    - This probability is useful for expecting parents and healthcare providers to estimate birth timing.\n",
    "    - It demonstrates how additional information (like being a first baby) can refine probability estimates.\n",
    "\n",
    "In summary, conditional probability provides a way to adjust and refine probabilities based on additional information or conditions. In childbirth, it helps to estimate more accurately the likelihood of birth at different gestational stages, particularly when considering factors like first-time births."
   ]
  },
  {
   "cell_type": "markdown",
   "metadata": {},
   "source": [
    "A simple way to compute these chances is to drop from our data the cases that do not fulfill the conditions and then renormalize."
   ]
  },
  {
   "cell_type": "code",
   "execution_count": 5,
   "metadata": {},
   "outputs": [],
   "source": [
    "df4 = df3.drop(df3.index[df3['prgLength'] < 39]) "
   ]
  },
  {
   "cell_type": "markdown",
   "metadata": {},
   "source": [
    "We are ready to compute the probability that the baby will be born in the week 39 for a pregnant woman in the beginning of week 39."
   ]
  },
  {
   "cell_type": "code",
   "execution_count": 6,
   "metadata": {},
   "outputs": [
    {
     "name": "stdout",
     "output_type": "stream",
     "text": [
      "0.6789752397309289\n"
     ]
    }
   ],
   "source": [
    "print(len(df4[(df4.prgLength == 39)].index)/float(len(df4)))"
   ]
  },
  {
   "cell_type": "markdown",
   "metadata": {},
   "source": [
    "Let's now add the second condition."
   ]
  },
  {
   "cell_type": "code",
   "execution_count": 9,
   "metadata": {},
   "outputs": [
    {
     "data": {
      "text/plain": [
       "<AxesSubplot:>"
      ]
     },
     "execution_count": 9,
     "metadata": {},
     "output_type": "execute_result"
    },
    {
     "data": {
      "image/png": "[encoded data removed]",
      "text/plain": [
       "<Figure size 640x480 with 1 Axes>"
      ]
     },
     "metadata": {},
     "output_type": "display_data"
    }
   ],
   "source": [
    "fb39 = df4[(df4.birthOrd == 1)]\n",
    "ob39 = df4[(df4.birthOrd > 1)]\n",
    "\n",
    "fb39['prgLength'].hist(bins=6,  density=True, alpha=.5)   # default number of bins = 10, blue\n",
    "ob39['prgLength'].hist(bins=6,  density=True, alpha=.5, color=sns.desaturate(\"indianred\", .75))"
   ]
  },
  {
   "cell_type": "code",
   "execution_count": 10,
   "metadata": {},
   "outputs": [
    {
     "name": "stdout",
     "output_type": "stream",
     "text": [
      "Probability First baby to be born on week 39: 0.634644250975683\n"
     ]
    }
   ],
   "source": [
    "print('Probability First baby to be born on week 39:', \n",
    "    len(fb39[(fb39.prgLength == 39)].index)/\n",
    "    float(len(fb39.index)))"
   ]
  },
  {
   "cell_type": "code",
   "execution_count": 11,
   "metadata": {},
   "outputs": [
    {
     "name": "stdout",
     "output_type": "stream",
     "text": [
      "Probability non first baby to be born on week 39: 0.7169863775368363\n"
     ]
    }
   ],
   "source": [
    "print('Probability non first baby to be born on week 39:',\n",
    "    len(ob39[(ob39.prgLength == 39)].index)/\n",
    "    float(len(ob39.index)))\n"
   ]
  },
  {
   "cell_type": "markdown",
   "metadata": {},
   "source": [
    "### Discussions.\n",
    "\n",
    "After exploring the data we have seen some **appearent effects** that seem to support our first hypothesis:\n",
    "\n",
    "+ **Data description**: The mean pregnant lenght for first babies is 38.76 and for other babies is 38.65.\n",
    "\n",
    "+ **Relative risk**: First babies are about 67% more likely to be late.\n",
    "\n",
    "+ **Conditional probability**: If someone is pregnant and it is the beginning of week 39, the chance (63% vs. 72%) that the baby will be born in the week 39 is lower if it is the first baby."
   ]
  },
  {
   "cell_type": "markdown",
   "metadata": {},
   "source": [
    "\n",
    "#### Exercises: Other possible experiments\n",
    "\n",
    "We can compare the first and others for the same woman. While it may be unlikely it could still be that a tendency exists for a woman's second, third, etc, child comes earlier.\n",
    "\n",
    "<small>(Result:  The second baby is born about some hours earlier, but this difference is not *statistically significant*.)<small>"
   ]
  },
  {
   "cell_type": "code",
   "execution_count": null,
   "metadata": {},
   "outputs": [],
   "source": [
    "# Exercise 1: Disease Testing\n",
    "# Suppose 1% of a population has a certain disease. A test for the disease is 99% accurate.\n",
    "# What is the probability that a person has the disease given they tested positive?"
   ]
  },
  {
   "cell_type": "code",
   "execution_count": null,
   "metadata": {},
   "outputs": [],
   "source": [
    "# Exercise 2: Coin Toss\n",
    "# You have a fair coin (equal probability of heads or tails) and a biased coin (75% heads, 25% tails).\n",
    "# You pick one coin at random and toss it, getting heads. What is the probability you picked the biased coin?"
   ]
  },
  {
   "cell_type": "code",
   "execution_count": null,
   "metadata": {},
   "outputs": [],
   "source": [
    "# Exercise 3: Card Draw from a Deck\n",
    "# From a standard deck of cards (52 cards), you draw one card. \n",
    "# What is the probability that it is a heart, given that it is a red card?"
   ]
  },
  {
   "cell_type": "code",
   "execution_count": null,
   "metadata": {},
   "outputs": [],
   "source": [
    "# Exercise 4: Rain and Traffic\n",
    "# It is known that there's a 40% chance of rain today. If it rains, the probability of traffic congestion is 70%.\n",
    "# If it does not rain, the probability of traffic congestion is 30%. \n",
    "# What is the probability that it will rain today given that there is traffic congestion?"
   ]
  },
  {
   "cell_type": "code",
   "execution_count": null,
   "metadata": {},
   "outputs": [],
   "source": [
    "# Exercise 5: First Child Birth\n",
    "# In a hospital, data shows that 60% of deliveries are first-time births.\n",
    "# Of the first-time births, 30% are by cesarean section. \n",
    "# Of the non-first-time births, 20% are by cesarean section.\n",
    "# What is the probability that a randomly selected cesarean section birth is a first-time birth?"
   ]
  },
  {
   "cell_type": "markdown",
   "metadata": {},
   "source": [
    "## 4. Probabilities\n",
    "\n",
    "### Probability Rules\n",
    "\n",
    "Probability is the branch of mathematics that deals with the likelihood of different outcomes. It provides a quantifiable measure to predict how likely events are to occur.\n",
    "\n",
    "#### Definition of Probability\n",
    "\n",
    "The most common definition of **probability** is a *frequency expressed as a fraction* of the universe of possible outcomes. This means probability is a real value between 0 and 1, where 0 indicates impossibility and 1 indicates certainty. Probabilities aim to quantify the idea that some things are more likely to happen than others.\n",
    "\n",
    "- #### Frequentism\n",
    "\n",
    "    Frequentism is a traditional approach to probability, focusing on the frequency or proportion of outcomes in a large number of trials. It is based on the idea that probability can be determined by conducting experiments or observations and counting the frequency of outcomes. \n",
    "\n",
    "    - **Key Concept**: Probability as Long-Run Frequency\n",
    "        - In Frequentism, probability is interpreted as the limit of its relative frequency in a large number of trials. \n",
    "        - For example, consider tossing a fair coin many times. As the number of tosses increases, the relative frequency of getting heads will tend to stabilize around 0.5. This stable value is considered the probability of getting heads.\n",
    "\n",
    "    - **Application in Experiments**:\n",
    "        - Frequentism is commonly used in scientific experiments and studies. For instance, if a new drug is tested on a large group of people and 45% show improvement, a frequentist would interpret this as the probability of the drug's effectiveness being 45%.\n",
    "\n",
    "- #### Bayesianism\n",
    "\n",
    "    Bayesianism takes a different approach by incorporating prior knowledge or belief into the calculation of probability. It is named after Thomas Bayes, who formulated the famous Bayes' Theorem.\n",
    "\n",
    "    - **Key Concept**: Probability as Degree of Belief\n",
    "        - Bayesian probability is subjective and represents a degree of belief or confidence in an event occurring. This belief is updated as new evidence or information becomes available.\n",
    "        - Bayesianism allows the use of prior knowledge or existing information to influence the calculation of probability.\n",
    "\n",
    "    - **Practical Example**:\n",
    "        - Consider the question: \"What is the probability that Thaksin Shinawatra is the Prime Minister of Thailand?\" \n",
    "        - A Bayesian approach would start with an initial belief (prior probability) based on existing knowledge (e.g., historical data, news, etc.) and update this belief as new information becomes available (like recent election results).\n",
    "\n",
    "    - **Bayes' Theorem**:\n",
    "        - Bayes' Theorem is central to Bayesian probability. It provides a way to update the probability of a hypothesis as more evidence or information is acquired.\n",
    "        - The theorem combines the prior probability, the likelihood of the current evidence under different hypotheses, and the overall probability of the evidence to give an updated probability (posterior probability).\n",
    "\n",
    "- #### Differences Between Frequentism and Bayesianism\n",
    "\n",
    "    - **Objective vs. Subjective** :\n",
    "        - Frequentism is often seen as more objective, as it relies on the frequency of events in repeated trials.\n",
    "        - Bayesianism is more subjective, as it depends on prior beliefs and the interpretation of new evidence.\n",
    "\n",
    "    - **Static vs. Dynamic** :\n",
    "        - Frequentist probabilities are static as they are based on long-run frequencies in repeated experiments.\n",
    "        - Bayesian probabilities are dynamic and can change as new information is incorporated.\n",
    "\n",
    "    - **Application** :\n",
    "        - Frequentism is widely used in fields where outcomes can be repeatedly observed under similar conditions.\n",
    "        - Bayesianism is useful in situations where incorporating prior knowledge or adjusting beliefs as new data comes in is crucial.\n",
    "\n",
    "    Understanding these two perspectives provides a comprehensive view of probability, helping students to apply the right approach based on the context of the problem.\n",
    "\n",
    "\n",
    "### Events and Trials\n",
    "\n",
    "#### Events\n",
    "\n",
    "The *things* to which we assign probabilities are called **events**, denoted as E. An event is any outcome or set of outcomes.\n",
    "\n",
    "#### Trials\n",
    "\n",
    "A *situation* in which an event might or might not happen is called a **trial**. For example, in the case of rolling a six-sided die, each roll is a trial.\n",
    "\n",
    "- If we want to compute the probability of rolling a 6 (P(6)), each time a 6 appears is called a **success**.\n",
    "- Rolls that result in any number other than 6 are called **failures**.\n",
    "\n",
    "### Probability of Success\n",
    "\n",
    "In a *finite series of n identical trials*, if we observe s successes, the **probability of the success** is calculated as s/n. This ratio is a fundamental principle in probability, representing the frequency of success in repeated, independent trials.\n",
    "\n",
    "For example, if we roll a die 100 times and get a 6 on 20 of those rolls, the probability of rolling a 6, based on our experiment, is 20/100 or 0.20.\n",
    "\n",
    "### Binomial Distribution\n",
    "\n",
    "The binomial distribution is a probability distribution that summarizes the likelihood that a value will take one of two independent states across a series of trials. For example, it can represent the probability of getting a certain number of heads in a series of coin tosses.\n",
    "\n",
    "### Monte Carlo Methods\n",
    "\n",
    "Monte Carlo methods are a broad class of computational algorithms that rely on repeated random sampling to obtain numerical results. They are often used in situations where it is difficult or impossible to compute an exact result with a deterministic algorithm.\n",
    "\n",
    "---\n",
    "\n",
    "This overview provides a foundational understanding of probability, differentiating between frequentist and Bayesian approaches, and introducing key concepts like events, trials, and the probability of success.\n",
    "\n",
    "\n"
   ]
  },
  {
   "cell_type": "markdown",
   "metadata": {},
   "source": [
    "### 4.1 Probability Rules\n",
    "\n",
    "Probability rules help us understand how different events relate to each other. We'll look at two key rules: one for non-independent events and another for independent events.\n",
    "\n",
    "#### Non-Independent Events\n",
    "\n",
    "When events A and B are not independent, the occurrence of one affects the probability of the other. The rule for such cases is:\n",
    "\n",
    "$$ P(A|B) = \\frac{P(A \\mbox{ and } B)}{P(B)}$$\n",
    "\n",
    "- This formula calculates the probability of event A occurring given that B has already occurred.\n",
    "- From this, we can derive: \n",
    "$$P(A \\mbox{ and } B) =  P(B|A) P(A) = P(A|B) P(B) $$\n",
    "\n",
    "##### Example of Non-Independent Events:\n",
    "\n",
    "- **Drawing Cards from a Deck Without Replacement**: \n",
    "    - Suppose you have a standard deck of 52 cards. You draw one card, and it's a heart. Without putting it back, you draw another card. The probability of the second card being a heart has changed because the first draw affects the second. Here, the events are not independent.\n",
    "\n",
    "#### Independent Events\n",
    "\n",
    "Events A and B are independent if the occurrence of one does not affect the probability of the other. The rule for independent events is:\n",
    "\n",
    "$$P(A \\mbox{ and } B) = P(A) P(B)$$. \n",
    "\n",
    "- This formula indicates that the probability of both A and B occurring is the product of their individual probabilities.\n",
    "\n",
    "##### Example of Independent Events:\n",
    "\n",
    "- **Tossing Coins**: \n",
    "    - If you toss a fair coin twice, the result of the first toss doesn't affect the result of the second. These are independent trials. \n",
    "    - The probability of getting heads on the first toss is $( \\frac{1}{2} )$, and the same for the second toss. So, the probability of getting heads on both tosses is $( \\frac{1}{2} \\times \\frac{1}{2} = \\frac{1}{4} )$.\n",
    "\n",
    "#### Understanding Independence\n",
    "\n",
    "- A and B are **independent** if knowing that A occurred does not change the probability of B occurring, and vice versa.\n",
    "- In real-life scenarios, whether events are independent or not can significantly impact how probabilities are calculated and interpreted.\n",
    "\n",
    "These rules form the foundation of probability theory and are crucial for understanding more complex probabilistic phenomena.\n"
   ]
  },
  {
   "cell_type": "markdown",
   "metadata": {},
   "source": [
    "**Exercises on Conditional Probability:**\n",
    "\n",
    "1. **Three Children Scenario**:\n",
    "   - If you have three children, what is the probability that all of them are girls?\n",
    "\n",
    "2. **At Least One Girl in Three Children**:\n",
    "   - If you have three children and you know at least one of them is a girl, what is the probability that all three are girls?\n",
    "\n",
    "3. **Specific Birth Order**:\n",
    "   - If you have three children and you know the first child is a girl, what is the probability that the other two are also girls?\n",
    "\n",
    "4. **At Least One Boy in Four Children**:\n",
    "   - If you have four children and know that at least one of them is a boy, what is the probability that exactly two are boys?\n",
    "\n",
    "5. **Twins and a Third Child**:\n",
    "   - If you have three children, including a pair of twins, and you know that at least one of the twins is a girl, what is the probability that the third child is also a girl?\n",
    "\n",
    "6. **Birthdays and Gender**:\n",
    "   - If you have three children, and you know that at least one girl was born on a Tuesday, what is the probability that you have two or more girls?"
   ]
  },
  {
   "cell_type": "code",
   "execution_count": null,
   "metadata": {},
   "outputs": [],
   "source": [
    "## Your solutions"
   ]
  },
  {
   "cell_type": "markdown",
   "metadata": {},
   "source": [
    "### More Probability Rules\n",
    "\n",
    "Understanding different types of events and how they interact is key in probability theory. Two important concepts are mutually exclusive events and the general rule for the probability of the union of two events.\n",
    "\n",
    "- #### Mutually Exclusive Events\n",
    "\n",
    "    - Two events are **mutually exclusive** if they cannot occur at the same time. In other words, the occurrence of one event excludes the possibility of the other event happening.\n",
    "\n",
    "    - **Mathematical Representation**:\n",
    "        $[ P(A | B) = P(B | A) = 0 ]$\n",
    "        - This means the probability of A happening given B has occurred (and vice versa) is zero.\n",
    "        - For example, when rolling a single die, the events 'rolling a 3' and 'rolling a 5' are mutually exclusive.\n",
    "\n",
    "    - **Probability of Either Event**:\n",
    "        $[ P(A \\text{ or } B) = P(A) + P(B) ]$\n",
    "        - For mutually exclusive events, the probability of either A or B occurring is the sum of their individual probabilities.\n",
    "        - For instance, in a deck of cards, the probability of drawing either a heart or a club is $( \\frac{1}{4} + \\frac{1}{4} = \\frac{1}{2} )$.\n",
    "\n",
    "- #### Non-Mutually Exclusive Events\n",
    "\n",
    "    When events A and B are not mutually exclusive, they can occur at the same time. In such cases, the rule to calculate the probability of either event happening is different.\n",
    "\n",
    "    - **General Rule for Union of Events**:\n",
    "    $[ P(A \\text{ or } B) = P(A) + P(B) - P(A \\text{ and } B) ]$\n",
    "        - This formula accounts for the intersection of A and B (i.e., the probability of both A and B occurring) to avoid double counting.\n",
    "        - For example, in a deck of cards, the probability of drawing a heart or a king is $( \\frac{1}{4} + \\frac{1}{13} - \\frac{1}{52} )$.\n",
    "\n",
    "- #### Understanding the Difference\n",
    "\n",
    "    - **Mutually Exclusive**: No overlap between events. The occurrence of one event excludes the other.\n",
    "    - **Non-Mutually Exclusive**: Potential overlap. The occurrence of one event does not exclude the possibility of the other.\n",
    "\n",
    "    Recognizing whether events are mutually exclusive or not is essential in correctly applying these probability rules and avoiding common mistakes in probabilistic reasoning."
   ]
  },
  {
   "cell_type": "markdown",
   "metadata": {},
   "source": [
    "**Exercises**: Counting is the most basic skill to solve probability problems.\n",
    "\n",
    "+ Q: For example, if I flip two coins, the chance of getting at least one tail is: 1/2 + 1/2-1/4=3/4?!\n",
    "+ Q: If I roll two dices and the total is 8, what is the probability that one of the dice is 6?\n",
    "+ Q: If I roll 100 dice, what is the probability of getting all sixes? \n",
    "+ Q: What is the probability of getting no sixes?\n",
    "+ Q: What is the probability of getting at least one six?\n"
   ]
  },
  {
   "cell_type": "code",
   "execution_count": null,
   "metadata": {},
   "outputs": [],
   "source": [
    "#Your solution here"
   ]
  },
  {
   "cell_type": "markdown",
   "metadata": {},
   "source": [
    "## 4.2 Binomial Distribution\n",
    "\n",
    "The binomial distribution is a fundamental probability distribution in statistics, used to model the number of successful outcomes in a fixed number of trials in an experiment.\n",
    "\n",
    "![](https://d1whtlypfis84e.cloudfront.net/guides/wp-content/uploads/2018/09/03051417/11.jpg)\n",
    "\n",
    "### Definition of Binomial Distribution\n",
    "\n",
    "A binomial distribution describes the probability of obtaining exactly $( k )$ successes in $( n )$ independent trials of a binary experiment. The experiment can result in just two possible outcomes, often termed as \"success\" and \"failure\".\n",
    "\n",
    "However, the Bernoulli distribution and the binomial distribution are intrinsically linked:\n",
    "\n",
    "1. **Bernoulli Distribution**: This is the simplest case of the binomial distribution, where a single trial is conducted. It has only two possible outcomes: success (with probability $( p )$) and failure (with probability $( 1-p )$). Essentially, a Bernoulli distribution is a binomial distribution with $( n=1 )$. [Bernoulli explained](https://www.youtube.com/watch?v=nl9WiZMZnYs&ab_channel=365DataScience)\n",
    "\n",
    "2. **Binomial Distribution**: This is a generalization of the Bernoulli distribution to $( n )$ independent trials. It represents the number of successes in $( n )$ independent Bernoulli trials, each with the same probability of success $( p )$. The key here is the independence of trials and the constant probability across each trial.[Binomial distribution](https://www.youtube.com/watch?v=_FbZI9mtSSM&ab_channel=365DataScience)\n",
    "\n",
    "So, the Bernoulli distribution is a special case of the binomial distribution. When you're dealing with more than one trial, and you're interested in the number of successes across those trials, you're working with a binomial distribution. But if you're just looking at one trial, it's a Bernoulli distribution. They are both foundational to understanding binary outcomes in probability theory.\n",
    "\n",
    "\n",
    "### Probability Mass Function (PMF)\n",
    "\n",
    "The Probability Mass Function (PMF) of a binomial distribution, which gives the probability of obtaining \\( k \\) successes in \\( n \\) trials, is defined as:\n",
    "\n",
    "$$[ PMF(k) = {n \\choose k} p^k (1-p)^{(n-k)} ]$$\n",
    "\n",
    "where:\n",
    "\n",
    "- $( {n \\choose k} )$ is the binomial coefficient, representing the number of ways to choose $( k )$ successes out of $( n )$ trials. [Binomial coefficient explained](https://www.youtube.com/watch?v=WHztDZECzlM&t=155s&ab_channel=TheBrightSideofMathematics)\n",
    "- $( p )$ is the probability of success on an individual trial.\n",
    "- $( 1-p )$ is the probability of failure on an individual trial.\n",
    "- $( n )$ is the number of trials.\n",
    "- $( k )$ is the number of successes.\n",
    "\n",
    "### Binomial Coefficient\n",
    "\n",
    "The binomial coefficient $( {n \\choose k} )$ is calculated using the formula:\n",
    "\n",
    "$[ {n \\choose k} = \\frac{n!}{k!(n-k)!} ]$\n",
    "\n",
    "where $( n! )$ (n factorial) is the product of all positive integers up to $( n )$.\n",
    "\n",
    "### Characteristics of Binomial Distribution\n",
    "\n",
    "- **Discrete**: The binomial distribution is discrete, as it only deals with counts of successes and failures.\n",
    "- **Dependence on $( p )$ and $( n )$**: The shape of the binomial distribution depends on the values of $( p )$ and $( n )$. It can be symmetric or skewed depending on these parameters.\n",
    "- **Examples**: Tossing a coin a certain number of times and counting the number of heads, or conducting a survey and counting the number of positive responses.\n",
    "\n",
    "### Application\n",
    "\n",
    "Binomial distributions are widely used in scenarios where the outcomes of each trial are binary, such as pass/fail, yes/no, or win/lose situations. They provide a powerful tool for understanding the variability and probabilities in such processes.\n",
    "\n",
    "Understanding the binomial distribution is key to many areas of statistics and forms the basis for the analysis of binary outcomes in various fields."
   ]
  },
  {
   "cell_type": "markdown",
   "metadata": {},
   "source": [
    "*Quality control*"
   ]
  },
  {
   "cell_type": "code",
   "execution_count": 18,
   "metadata": {},
   "outputs": [
    {
     "name": "stdout",
     "output_type": "stream",
     "text": [
      "Probability of finding exactly 5 defective items: 0.035346804727720935\n"
     ]
    }
   ],
   "source": [
    "from scipy.stats import binom\n",
    "\n",
    "# For a manufacturing process, there is always a chance of producing defective items.\n",
    "# Assume there is a 2% chance of an item being defective.\n",
    "# We want to find the probability of finding exactly 5 defective items in a batch of 100.\n",
    "\n",
    "n = 100  # Total number of items in a batch\n",
    "p = 0.02  # Defect rate (probability of an item being defective)\n",
    "\n",
    "k = 5  # Number of defective items we're calculating the probability for\n",
    "prob = binom.pmf(k, n, p)  # pmf is the probability mass function for binomial distribution\n",
    "print(f\"Probability of finding exactly {k} defective items: {prob}\")"
   ]
  },
  {
   "cell_type": "markdown",
   "metadata": {},
   "source": [
    "*Call centers*"
   ]
  },
  {
   "cell_type": "code",
   "execution_count": 19,
   "metadata": {},
   "outputs": [
    {
     "name": "stdout",
     "output_type": "stream",
     "text": [
      "Probability of exactly 10 callers hanging up: 0.1319\n"
     ]
    }
   ],
   "source": [
    "# In a call center, not all callers are willing to wait to be connected to an operator.\n",
    "# Suppose there's a 10% chance of a caller hanging up before connection.\n",
    "# We want to calculate the probability of exactly 10 callers hanging up out of the next 100 calls.\n",
    "\n",
    "n = 100  # Number of callers\n",
    "p = 0.10  # Probability of a caller hanging up\n",
    "\n",
    "k = 10\n",
    "# Desired number of hang-ups to calculate probability for\n",
    "prob = binom.pmf(k, n, p)  # Using the binomial probability mass function\n",
    "print(f\"Probability of exactly {k} callers hanging up: {prob:.4f}\")"
   ]
  },
  {
   "cell_type": "markdown",
   "metadata": {},
   "source": [
    "*Finance and investing*"
   ]
  },
  {
   "cell_type": "code",
   "execution_count": null,
   "metadata": {},
   "outputs": [],
   "source": [
    "# The stock market is unpredictable, but sometimes investors use historical data to make predictions.\n",
    "# If a stock has a 55% chance of increasing in value on any given day,\n",
    "# an investor might want to know the probability of the stock increasing 20 out of 30 days.\n",
    "\n",
    "n = 30  # Number of days\n",
    "p = 0.55  # Probability of stock increasing in value in a single day\n",
    "\n",
    "k = 20  # Number of days the investor is hoping the stock will increase\n",
    "prob = binom.pmf(k, n, p)  # Calculate the probability with binomial distribution\n",
    "print(f\"Probability of stock going up exactly {k} times: {prob:.4f}\")"
   ]
  },
  {
   "cell_type": "markdown",
   "metadata": {},
   "source": [
    "*Marketing Campaigns*"
   ]
  },
  {
   "cell_type": "code",
   "execution_count": null,
   "metadata": {},
   "outputs": [],
   "source": [
    "# Marketing teams often send out advertisements and want to predict the response rate.\n",
    "# If sending out 10,000 flyers with an expected 1% response rate,\n",
    "# the binomial distribution can predict the probability of receiving a certain number of responses.\n",
    "\n",
    "n = 10000  # Number of flyers sent\n",
    "p = 0.01  # Expected response rate\n",
    "\n",
    "k = 150  # Number of responses we want to find the probability for\n",
    "prob = binom.pmf(k, n, p)  # Probability of receiving exactly k responses\n",
    "print(f\"Probability of receiving exactly {k} responses: {prob:.4f}\")"
   ]
  },
  {
   "cell_type": "markdown",
   "metadata": {},
   "source": [
    "*Loan defaults*"
   ]
  },
  {
   "cell_type": "code",
   "execution_count": null,
   "metadata": {},
   "outputs": [],
   "source": [
    "# Banks and financial institutions often assess the risk of loan portfolios.\n",
    "# If there's a 5% chance of default on an individual loan, they might calculate the probability\n",
    "# of a certain number of defaults in a portfolio of 1000 loans.\n",
    "\n",
    "n = 1000  # Total number of loans\n",
    "p = 0.05  # Probability of default on an individual loan\n",
    "\n",
    "k = 50  # Number of defaults to calculate probability for\n",
    "prob = binom.pmf(k, n, p)  # Calculating the probability using binomial distribution\n",
    "print(f\"Probability of exactly {k} loans defaulting: {prob:.4f}\")"
   ]
  },
  {
   "cell_type": "markdown",
   "metadata": {},
   "source": [
    "## 4.3 Central Limit Theorem\n",
    "\n",
    "The Central Limit Theorem (CLT) is a fundamental concept in statistics, and it plays a crucial role in explaining why the normal distribution is so pervasive in various fields.[Central Limit Theorem](https://www.youtube.com/watch?v=b5xQmk9veZ4&ab_channel=365DataScience)\n",
    "\n",
    "#### The Central Limit Theorem Explained\n",
    "\n",
    "The Central Limit Theorem states that:\n",
    "\n",
    "> If you take the mean of $( n )$ random samples from any arbitrary distribution with a well-defined standard deviation $( \\sigma )$ and mean $( \\mu )$, as $( n )$ gets larger, the distribution of the sample mean will converge to a Gaussian (normal) distribution with mean $( \\mu $) and standard deviation $( \\frac{\\sigma}{\\sqrt{n}} )$.\n",
    "\n",
    "#### Key Aspects of the CLT\n",
    "\n",
    "- **Applicability to Any Distribution**: The CLT is remarkable because it applies to any distribution, no matter its shape, as long as the distribution has a well-defined mean and standard deviation.\n",
    "- **Sample Size and Normal Distribution**: As the sample size increases, the distribution of the sample means tends toward a normal distribution, regardless of the shape of the original data distribution.\n",
    "- **Mean and Standard Deviation of the Sample Means**: The mean of these sample means will equal the population mean (\\( \\mu \\)), and their standard deviation (also called the standard error) will be \\( \\frac{\\sigma}{\\sqrt{n}} \\).\n",
    "\n",
    "#### Why is the CLT Significant?\n",
    "\n",
    "- **Ubiquity of the Normal Distribution**: The CLT helps to explain why normal distributions are commonly observed in real-world data—even when the underlying data does not follow a normal distribution.\n",
    "- **Foundation for Statistical Methods**: This theorem underlies many statistical methods, such as hypothesis testing and confidence intervals. It allows for inferences about population parameters even when the distribution of the population is unknown.\n",
    "- **Practical Implications**: In practical terms, the CLT means that average measurements from random samples (like the average height from a sample of people) will tend to form a normal distribution, even if individual measurements themselves do not.\n",
    "\n",
    "#### Applications and Implications\n",
    "\n",
    "The CLT has widespread applications across various domains, from natural and social sciences to engineering and economics. It allows researchers and practitioners to use the powerful tools of normal distribution, even in situations where the data does not initially appear to fit this model.\n",
    "\n",
    "In essence, the Central Limit Theorem provides a bridge between the theory of probability and the practice of statistics, justifying the use of the normal distribution as a model in many practical situations.\n",
    "\n",
    "\n",
    "### Example Central Limit Theorem in Business: Daily Sales Analysis\n",
    "\n",
    "In this exercise, we'll explore the Central Limit Theorem (CLT) using a practical business example. We will simulate a common scenario in retail - daily sales. Understanding the CLT can be crucial in business for making predictions and understanding data trends.\n",
    "\n",
    "#### Scenario: Retail Store Daily Sales\n",
    "\n",
    "In a retail environment, daily sales can vary significantly and might not follow a normal distribution. However, by applying the CLT, we can understand how the average sales over time behave, which is critical for inventory management, staffing, and financial forecasting.\n",
    "\n",
    "#### Objective\n",
    "\n",
    "The aim is to simulate daily sales data, compute sample means over different sample sizes, and observe how these sample means form a distribution. According to the CLT, as the sample size increases, the distribution of the sample means should approximate a normal distribution, regardless of the shape of the original sales data distribution.\n",
    "\n",
    "#### Python Simulation\n",
    "\n",
    "The provided Python code carries out the following steps:\n",
    "1. Generates random daily sales figures assuming a uniform distribution (non-normal).\n",
    "2. Calculates sample means for different sample sizes.\n",
    "3. Plots the distribution of these sample means.\n",
    "4. Fits a normal distribution over the sample means to visualize the CLT.\n",
    "\n",
    "This practical example will demonstrate the power of the CLT in a business context, showcasing its relevance and application in everyday data analysis tasks in the retail industry.\n"
   ]
  },
  {
   "cell_type": "code",
   "execution_count": 20,
   "metadata": {},
   "outputs": [
    {
     "data": {
      "image/png": "[encoded data removed]",
      "text/plain": [
       "<Figure size 1100x500 with 4 Axes>"
      ]
     },
     "metadata": {},
     "output_type": "display_data"
    }
   ],
   "source": [
    "import numpy as np\n",
    "import matplotlib.pyplot as plt\n",
    "\n",
    "# Setting up a demonstration of the Central Limit Theorem (CLT) using daily sales data\n",
    "fig, ax = plt.subplots(1, 4, sharey=True, squeeze=True, figsize=(11, 5))\n",
    "\n",
    "# Assume sales amounts are uniformly distributed between $1000 and $5000\n",
    "lower_bound, upper_bound = 1000, 5000\n",
    "sample_sizes = [1, 2, 5, 10]  # Different sample sizes to demonstrate the CLT\n",
    "\n",
    "for i, n in enumerate(sample_sizes):\n",
    "    # Generating random daily sales data for 'n' days\n",
    "    daily_sales = np.random.uniform(lower_bound, upper_bound, (10000, n))\n",
    "\n",
    "    # Calculating the mean of daily sales for each of the 10,000 samples\n",
    "    sample_means = np.mean(daily_sales, axis=1)\n",
    "\n",
    "    # Plotting the histogram of the sample means\n",
    "    ax[i].hist(sample_means, bins=40, density=True, color=[0, 0.2, .8, .6])\n",
    "    ax[i].set_title(f'n={n}')\n",
    "\n",
    "    # Fitting a normal distribution to the sample means\n",
    "    mean, std = np.mean(sample_means), np.std(sample_means, ddof=1)\n",
    "    x = np.linspace(min(sample_means), max(sample_means), 100)\n",
    "    normal_pdf = (1 / (std * np.sqrt(2 * np.pi))) * np.exp(-(x - mean) ** 2 / (2 * std ** 2))\n",
    "    \n",
    "    # Plotting the fitted normal distribution over the histogram\n",
    "    ax[i].plot(x, normal_pdf, color=[1, 0, 0, .6], linewidth=2)\n",
    "\n",
    "plt.suptitle('Demonstration of the CLT for Daily Sales in a Retail Store', y=1.05)\n",
    "plt.tight_layout()\n",
    "plt.show()\n"
   ]
  },
  {
   "cell_type": "markdown",
   "metadata": {},
   "source": [
    "## 4.4 Monte Carlo Experiments\n",
    "\n",
    "Monte Carlo experiments are a critical tool in computational statistics and mathematical analysis. They are used to model the probability of different outcomes in a process that cannot easily be predicted due to the intervention of random variables. [Monte Carlo](https://www.youtube.com/watch?v=hhBNk0xmZ9U&ab_channel=365FinancialAnalystTutorials)\n",
    "\n",
    "### What are Monte Carlo Experiments?\n",
    "\n",
    "Monte Carlo experiments are a broad class of computational algorithms that rely on **repeated random sampling to obtain numerical results**. The fundamental principle of these experiments is to use randomness to solve problems that might be deterministic in principle. They are especially useful for simulating systems with many coupled degrees of freedom and for calculating integrals in high dimensions.\n",
    "\n",
    "### Key Features\n",
    "- **Random Sampling**: At the heart of Monte Carlo methods is the generation of multiple, random samples.\n",
    "- **Repetition**: Running simulations multiple times to obtain a distribution of an unknown probabilistic entity.\n",
    "- **Estimation**: They are often used for estimating unknown parameters or distributions in statistical problems.\n",
    "\n",
    "### Theoretical Basis\n",
    "\n",
    "Monte Carlo methods are extensively used in fields like physical sciences, engineering, business, finance, and artificial intelligence. They are particularly valuable in situations where analytical solutions are impractical or impossible to find. The theory behind Monte Carlo experiments is grounded in statistical physics and probability theory.\n",
    "\n",
    "### Trivial Case: Rolling a Die\n",
    "\n",
    "**Example**: What are the chances of getting a six in one trial of rolling a fair die?\n",
    "\n",
    "In theory, a fair die has six faces, each equally likely to land face up. Therefore, the probability of getting a six (or any other specific number) in a single roll is 1/6 or approximately 16.67%.\n",
    "\n",
    "### Monte Carlo Approach\n",
    "- **Simulation**: You can simulate rolling a die many times (e.g., 10,000 times) and count how often a six appears.\n",
    "- **Estimation**: By dividing the number of times a six is rolled by the total number of rolls, you get an estimate of the probability of rolling a six.\n",
    "- **Convergence**: As the number of trials increases, this estimated probability will converge to the theoretical probability (1/6).\n",
    "\n",
    "This trivial case illustrates how Monte Carlo methods can approximate the probabilities of certain outcomes through repeated, random sampling. As the complexity of the problem increases, Monte Carlo methods become an indispensable tool for probabilistic analysis and decision-making.\n"
   ]
  },
  {
   "cell_type": "markdown",
   "metadata": {},
   "source": [
    "*Portfolio Risk Analysis*: In finance, Monte Carlo simulations are used to model the probability of different outcomes in a financial portfolio."
   ]
  },
  {
   "cell_type": "code",
   "execution_count": 21,
   "metadata": {},
   "outputs": [
    {
     "name": "stdout",
     "output_type": "stream",
     "text": [
      "Median final portfolio value after 30 years: $566673.05\n"
     ]
    }
   ],
   "source": [
    "import numpy as np\n",
    "\n",
    "# Parameters for the simulation\n",
    "years = 30\n",
    "mean_return = 0.07  # Average annual return\n",
    "std_dev_return = 0.15  # Standard deviation of the return\n",
    "initial_investment = 100000  # Initial investment amount\n",
    "\n",
    "# Perform Monte Carlo simulation\n",
    "final_portfolio_values = []\n",
    "for _ in range(10000):\n",
    "    # Generate random yearly returns based on mean and standard deviation\n",
    "    yearly_returns = np.random.normal(mean_return, std_dev_return, years)\n",
    "    # Calculate the final portfolio value\n",
    "    end_value = initial_investment * np.prod(1 + yearly_returns)\n",
    "    final_portfolio_values.append(end_value)\n",
    "\n",
    "# Analyze the results\n",
    "median_portfolio = np.median(final_portfolio_values)\n",
    "print(f\"Median final portfolio value after {years} years: ${median_portfolio:.2f}\")\n"
   ]
  },
  {
   "cell_type": "markdown",
   "metadata": {},
   "source": [
    "*Sales Forecasting*: This Monte Carlo simulation can be used to forecast sales for a product. It takes into account the uncertainty in factors like market demand and unit price."
   ]
  },
  {
   "cell_type": "code",
   "execution_count": null,
   "metadata": {},
   "outputs": [],
   "source": [
    "import numpy as np\n",
    "\n",
    "# Parameters\n",
    "num_simulations = 10000\n",
    "avg_demand = 10000  # average demand units\n",
    "std_dev_demand = 2000  # standard deviation of demand\n",
    "avg_price = 50  # average price per unit\n",
    "std_dev_price = 5  # standard deviation of price\n",
    "\n",
    "# Monte Carlo Simulation\n",
    "sales_forecasts = []\n",
    "for _ in range(num_simulations):\n",
    "    simulated_demand = np.random.normal(avg_demand, std_dev_demand)\n",
    "    simulated_price = np.random.normal(avg_price, std_dev_price)\n",
    "    total_sales = simulated_demand * simulated_price\n",
    "    sales_forecasts.append(total_sales)\n",
    "\n",
    "# Analysis of Results\n",
    "average_sales = np.mean(sales_forecasts)\n",
    "print(f\"Average Forecasted Sales: ${average_sales:.2f}\")"
   ]
  },
  {
   "cell_type": "markdown",
   "metadata": {},
   "source": [
    "*Project Completion Time*: Use Monte Carlo simulations to estimate the completion time of a project, considering the uncertainty in the duration of each task."
   ]
  },
  {
   "cell_type": "code",
   "execution_count": null,
   "metadata": {},
   "outputs": [],
   "source": [
    "# Assumptions: a project with three main tasks, each with an estimated duration\n",
    "# and standard deviation.\n",
    "\n",
    "num_simulations = 5000\n",
    "task1_mean = 10  # days\n",
    "task1_std = 2  # days\n",
    "task2_mean = 15  # days\n",
    "task2_std = 3  # days\n",
    "task3_mean = 20  # days\n",
    "task3_std = 4  # days\n",
    "\n",
    "project_durations = []\n",
    "for _ in range(num_simulations):\n",
    "    task1_time = np.random.normal(task1_mean, task1_std)\n",
    "    task2_time = np.random.normal(task2_mean, task2_std)\n",
    "    task3_time = np.random.normal(task3_mean, task3_std)\n",
    "    total_time = task1_time + task2_time + task3_time\n",
    "    project_durations.append(total_time)\n",
    "\n",
    "average_project_time = np.mean(project_durations)\n",
    "print(f\"Average Project Completion Time: {average_project_time:.2f} days\")"
   ]
  },
  {
   "cell_type": "code",
   "execution_count": null,
   "metadata": {},
   "outputs": [],
   "source": [
    "np.random.normal(task1_mean, task1_std)"
   ]
  },
  {
   "cell_type": "markdown",
   "metadata": {},
   "source": [
    "## 5 Estimation"
   ]
  },
  {
   "cell_type": "markdown",
   "metadata": {},
   "source": [
    "Let's think of a sequence of values: \n",
    "[-0.441, 1.774, -0.101, -1.138, 2.975, -2.138].\n",
    "\n",
    "Can you guess which is the distribution? For example what would be its mean?\n",
    "\n",
    "Hint: assume that it is normal distribution.\n",
    "\n",
    "\n",
    "**Definition:** *Estimation* is the process of inferring the parameters (e.g. mean) of a distribution from a statistic of samples drown from a population.\n",
    "\n",
    "For example: What is the estimated mean $\\hat{\\mu}$ of the following normal data?"
   ]
  },
  {
   "cell_type": "code",
   "execution_count": 22,
   "metadata": {},
   "outputs": [
    {
     "data": {
      "image/png": "[encoded data removed]",
      "text/plain": [
       "<Figure size 640x480 with 1 Axes>"
      ]
     },
     "metadata": {},
     "output_type": "display_data"
    }
   ],
   "source": [
    "x = np.random.normal(0.0, 1.0, 10000)\n",
    "a = plt.hist(x,50,density='True')"
   ]
  },
  {
   "cell_type": "markdown",
   "metadata": {},
   "source": [
    "We can use our definition of empirical mean:"
   ]
  },
  {
   "cell_type": "code",
   "execution_count": 23,
   "metadata": {},
   "outputs": [
    {
     "name": "stdout",
     "output_type": "stream",
     "text": [
      "The empirical mean of the sample is  -0.0027152897266846695\n"
     ]
    }
   ],
   "source": [
    "print('The empirical mean of the sample is ', x.mean())"
   ]
  },
  {
   "cell_type": "markdown",
   "metadata": {},
   "source": [
    "Let us imagine that we were reported the following data, where probably one of the data is wrong:"
   ]
  }
 ],
 "metadata": {
  "kernelspec": {
   "display_name": "Python 3 (ipykernel)",
   "language": "python",
   "name": "python3"
  },
  "language_info": {
   "codemirror_mode": {
    "name": "ipython",
    "version": 3
   },
   "file_extension": ".py",
   "mimetype": "text/x-python",
   "name": "python",
   "nbconvert_exporter": "python",
   "pygments_lexer": "ipython3",
   "version": "3.9.13"
  }
 },
 "nbformat": 4,
 "nbformat_minor": 1
}
