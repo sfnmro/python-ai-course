{
 "cells": [
  {
   "cell_type": "markdown",
   "id": "constant-discovery",
   "metadata": {},
   "source": [
    "# Let's keep the flow going"
   ]
  },
  {
   "cell_type": "markdown",
   "id": "genetic-output",
   "metadata": {},
   "source": [
    "![FLOW](https://media.giphy.com/media/h8y265b9iKtzKT0pDj/giphy.gif)"
   ]
  },
  {
   "cell_type": "markdown",
   "id": "17832115",
   "metadata": {
    "lang": "en"
   },
   "source": [
    "Welcome back to the wild world of Python programming! In our previous sessions, we've conquered the art of conditional statements and dipped our toes into the magical land of \"for\" loops. Now, it's time to level up and embark on a thrilling journey through the enchanting realm of loops.\n",
    "\n",
    "In this notebook, we'll be unraveling the mysteries of the \"while\" statement, mastering the secrets of \"pass,\" \"continue,\" and \"break,\" and depeer exploring the versatile \"for\" loop. We'll learn to dance with strings, groove with lists, synchronize our moves with dictionaries, and much more.\n",
    "\n",
    "So buckle up, fellow Python adventurer! It's time to dive into the world of loops and embrace the power of iteration. Whether you're a seasoned coder or just starting your Python voyage, there's something here for everyone. Let's set sail on this coding adventure together! 🐍🌟\n",
    "\n",
    "## The \"while\" statement\n",
    "\n",
    "In Python, the `while` statement is a powerful tool when you need to execute a block of code repeatedly as long as a certain condition holds true. Think of it as your trusty sidekick for those dynamic scenarios where you don't know exactly how many iterations you'll need in advance.\n",
    "\n",
    "**When to Use \"while\" Instead of \"for\"**\n",
    "\n",
    "Imagine you're building a business application, and you want to keep processing customer orders until your inventory is empty or until a specific sales target is met. This is where the \"while\" statement shines. In a business context, you'd use the \"while\" loop when:\n",
    "\n",
    "1. **Dynamic Conditions:** You have a situation where the number of iterations isn't predetermined. For instance, you're continuously processing customer orders until a specific sales goal is reached, and that goal varies from day to day.\n",
    "\n",
    "2. **Real-time Monitoring:** You need to monitor a system or process in real-time and take action based on changing conditions. For example, you want to adjust production levels in response to fluctuations in demand.\n",
    "\n",
    "3. **Interactive User Input:** You're designing an interactive application that waits for user input, such as a chatbot that responds to user messages until the user decides to exit the conversation.\n",
    "\n",
    "The \"while\" statement allows your program to adapt dynamically to the changing conditions of the real world. It keeps running until a specific condition becomes false, making it ideal for scenarios where flexibility and responsiveness are key.\n",
    "\n",
    "So, while the \"for\" loop excels in situations where you have a fixed sequence or collection of items to iterate through, the \"while\" loop is your go-to choice when dealing with scenarios that demand dynamic, condition-driven iteration in the ever-changing landscape of business operations.\n",
    "\n",
    "\n",
    "**Note:** Beware of infinite recursions!"
   ]
  },
  {
   "cell_type": "code",
   "execution_count": null,
   "id": "13143a55",
   "metadata": {},
   "outputs": [],
   "source": [
    "# Initialize the age variable\n",
    "age = 10\n",
    "\n",
    "# Define the upper age limit for the loop\n",
    "age_limit = 18\n",
    "\n",
    "# Use a while loop to iterate as long as age is less than or equal to the age limit\n",
    "while age <= age_limit:\n",
    "    # Print the current age\n",
    "    print(f\"Current age is {age}\")\n",
    "    \n",
    "    # Increment the age by 1 in each iteration\n",
    "    age += 1\n",
    "\n",
    "# The loop will exit when age becomes greater than the age limit\n",
    "print(\"You are now an adult!\")"
   ]
  },
  {
   "cell_type": "markdown",
   "id": "cbe52113",
   "metadata": {},
   "source": [
    "In this example, we're using a \"while\" loop to simulate a person's age incrementing from 10 to 18, which is typically considered the transition from childhood to adulthood. Here's a breakdown of the code:\n",
    "\n",
    "1. We start with an initial age of 10 and set the age_limit to 18, the age at which the loop will exit.\n",
    "\n",
    "2. Inside the \"while\" loop, we check if age is less than or equal to age_limit. If this condition is true, the loop continues to execute.\n",
    "\n",
    "3. Inside the loop, we print the current age using an f-string to provide a clear message.\n",
    "\n",
    "4. We then increment the age by 1 in each iteration using `age += 1`.\n",
    "\n",
    "5. The loop repeats until age becomes greater than age_limit, at which point the loop exits.\n",
    "\n",
    "6. Finally, we print a message indicating that the person is now an adult.\n",
    "\n",
    "This example demonstrates how to use a \"while\" loop to perform a series of actions until a specific condition is met. It's a common pattern for iterative tasks that don't have a predetermined number of iterations. Another example:\n"
   ]
  },
  {
   "cell_type": "code",
   "execution_count": null,
   "id": "05dc47aa",
   "metadata": {},
   "outputs": [],
   "source": [
    "# Welcome message\n",
    "print(\"Welcome to the Investment Opportunity Analyzer!\")\n",
    "\n",
    "# Input validation using a while loop\n",
    "num_opportunities = int(input(\"Please enter the number of investment opportunities: \"))\n",
    "profit_margin = float(input(\"Please enter the minimum acceptable profit margin (as a percentage): \"))\n",
    "\n",
    "# Initialize a list to store profitable opportunities\n",
    "profitable_opportunities = []\n",
    "\n",
    "# Gather details for each investment opportunity\n",
    "# for i in opportunities: (continue this code)\n",
    "\n",
    "\n",
    "# Print profitable investment opportunities\n",
    "# if profitable_opportunities: (continue this part)"
   ]
  },
  {
   "cell_type": "markdown",
   "id": "9af78e68",
   "metadata": {
    "lang": "en"
   },
   "source": [
    "## Pass,  continue & break\n",
    "In Python, we have control flow statements that allow us to manage the flow of our programs. These statements help us make decisions, control loops, and handle various situations. Let's explore three important control flow statements: `pass`, `continue`, and `break`.[docs](https://docs.python.org/3/tutorial/controlflow.html))\n",
    "\n",
    "- **Pass:**\n",
    "\n",
    "  The `pass` statement serves as a placeholder in Python. When you're writing code and need a statement at a certain place but don't want it to perform any action yet, you can use `pass`. It's a way of telling Python, \"I know there should be something here, but I'm not ready to write it yet.\" It's commonly used when you're designing the structure of your code and need to fill in the details later. For example, when defining a function or a class, you might use `pass` until you're ready to write the actual code inside them.\n",
    "\n",
    "- **Continue:**\n",
    "\n",
    "  The `continue` statement is used within loops (like `for` or `while`) to skip the rest of the current iteration and move on to the next one. Imagine you're iterating over a list of numbers and, when a specific condition is met, you want to skip that number and proceed to the next. You can use `continue` to achieve this. It's like saying, \"I'm done with this part of the loop; let's move to the next element.\"\n",
    "\n",
    "- **Break:**\n",
    "\n",
    "  The `break` statement is also used within loops but is more powerful. When encountered, it immediately exits the loop, even if the loop's conditions are not met. It's like saying, \"I'm done with this loop; let's get out of here.\" You might use `break` when searching for a specific element in a list. Once you find it, you can break the loop instead of continuing to iterate unnecessarily.\n",
    "\n",
    "These control flow statements help you manage the flow of your program and make decisions based on conditions, ensuring that your code behaves the way you intend. They are essential tools for any programmer and can simplify complex logic.\n"
   ]
  },
  {
   "cell_type": "markdown",
   "id": "9a7bc1ee",
   "metadata": {},
   "source": [
    "- `pass`: ignores, does things and goes to next iteration\n",
    "\n",
    "**Example 1:**"
   ]
  },
  {
   "cell_type": "code",
   "execution_count": null,
   "id": "a798c2c2",
   "metadata": {},
   "outputs": [],
   "source": [
    "# Example using the pass statement within a conditional block\n",
    "x = 2\n",
    "\n",
    "if x > 5:\n",
    "    print(\"x is greater than 5\")\n",
    "elif x < 5:\n",
    "    pass # work in the future\n",
    "else:\n",
    "    print('check done')\n",
    "\n",
    "# Explanation:\n",
    "# In this example, we have a variable x with a value of 10.\n",
    "# We use a conditional statement (if-elif-else) to check x's value.\n",
    "# - If x is greater than 5, it prints the message \"x is greater than 5.\"\n",
    "# - If x is less than 10 but not greater than 5, the pass statement is used as a placeholder.\n",
    "# - In the \"else\" block, it prints the message \"check done.\""
   ]
  },
  {
   "cell_type": "markdown",
   "id": "34fd0c0c",
   "metadata": {},
   "source": [
    "**Example 2:**"
   ]
  },
  {
   "cell_type": "code",
   "execution_count": null,
   "id": "deaed70a",
   "metadata": {},
   "outputs": [],
   "source": [
    "# Example using the pass statement within a loop\n",
    "list_of_names = [\"Alice\", \"Bob\", \"Charlie\", \"Dave\", \"Eve\"]\n",
    "\n",
    "for i in list_of_names:\n",
    "    if i.startswith(\"C\"):\n",
    "        pass\n",
    "    else:\n",
    "        print(\"It doesn't start with a C\")\n",
    "\n",
    "# Explanation:\n",
    "# We have a list of names stored in the 'list_of_names' variable.\n",
    "# We use a 'for' loop to iterate through each name in the list.\n",
    "# Inside the loop, we check if the name starts with the letter 'C' using the 'startswith' method. \n",
    "# We don't know yet what the condition will do, but it allows us to check if the loop is working."
   ]
  },
  {
   "cell_type": "markdown",
   "id": "6630b66a",
   "metadata": {},
   "source": [
    "- `continue`: stops and goes to next iteration\n",
    "\n",
    "**Example 1:**"
   ]
  },
  {
   "cell_type": "code",
   "execution_count": null,
   "id": "9d2b1483",
   "metadata": {},
   "outputs": [],
   "source": [
    "list_of_names = [\"Clara\", \"Albert\", \"Laura\", \"Carla\"]\n",
    "\n",
    "for i in list_of_names:\n",
    "    if i.startswith(\"C\"):\n",
    "        # Continue with the NEXT iteration if the name starts with \"C\"\n",
    "        continue  # This line instructs the program to skip the remaining code in this iteration\n",
    "        print(i)  # This line is not executed for names starting with \"C\"\n",
    "    else:\n",
    "        # Print names that do not start with \"C\"\n",
    "        print(i)"
   ]
  },
  {
   "cell_type": "markdown",
   "id": "d57347a0",
   "metadata": {},
   "source": [
    "- `break` stops the loop\n",
    "\n",
    "**Example 1:**"
   ]
  },
  {
   "cell_type": "code",
   "execution_count": null,
   "id": "7a77b47f",
   "metadata": {},
   "outputs": [],
   "source": [
    "# List of names\n",
    "list_of_names = [\"Albert\", \"Clara\", \"Laura\", \"Carla\"]\n",
    "\n",
    "# Iterate through the list\n",
    "for i in list_of_names:\n",
    "    # Check if the name starts with \"C\"\n",
    "    if i.startswith(\"C\"):\n",
    "        # If it does, exit the loop immediately using \"break\"\n",
    "        break\n",
    "        # The following line will not be executed for names starting with \"C\"\n",
    "        print(i)\n",
    "    else:\n",
    "        # Print names that do not start with \"C\"\n",
    "        print(i)"
   ]
  },
  {
   "cell_type": "markdown",
   "id": "5f8559a8",
   "metadata": {
    "lang": "en"
   },
   "source": [
    "## Summary\n",
    "It's your turn, what have we learned today?\n"
   ]
  },
  {
   "cell_type": "markdown",
   "id": "d276cc0c",
   "metadata": {},
   "source": [
    "### CONDITIONS\n",
    "\n",
    "- `if/elif/else`\n",
    "    - if vs elif\n",
    "        - if & if: more than 1 condition at once: not exclusive\n",
    "        - if & elif: exclusive conditions\n",
    "    - else: useful but be careful not to be too general\n",
    "    \n",
    "- `booleans: data type`\n",
    "    - truthies/falsies\n",
    "        - truthy: the rest\n",
    "        - falsie: empty, 0, False, None\n",
    "    - bool()\n",
    "    - True / False\n",
    "    \n",
    "### LOOP\n",
    "\n",
    "- while (as long as there's a condition not met)\n",
    "    - until a condition is met: keep things running until it happens\n",
    "\n",
    "- for (as long as there's elements to loop)\n",
    "    - iterables:\n",
    "        - data types: strings\n",
    "        - data strucures: lists, tuples, sets, dictionaries\n",
    "            - dictionary: i, .items, .keys, .values\n",
    "            \n",
    "    - elements OR/AND the index\n",
    "        - `for element in iterable:`\n",
    "            - element: element\n",
    "        - `for index in range(len(iterable)):`\n",
    "            - `index`\n",
    "            - element: iterable[index]\n",
    "    \n",
    "    - ranges\n",
    "        - range(4): 0, 1, 2, 3\n",
    "        - range(10, 21, 2): 10, 12, 14, 16, 18, 20\n",
    "    \n",
    "    - enumerate: index & element\n",
    "        - `for index, element in iterable`\n",
    "    \n",
    "    - zip: more than one iterable at once\n",
    "        - `for el1, el2, el3 in zip(iterable1, iterable2, iterable3)`\n",
    "    \n",
    "    - zip & enumerate can be used together\n",
    "    \n",
    "    - loops can be nested: [[[[]]]]\n",
    "        - for i in iterable\n",
    "            - for j in i\n",
    "                - for k in j\n",
    "                       - for l in k ....\n",
    "    \n",
    "    \n",
    "- pass/continue/break\n",
    "    - pass: ignores\n",
    "    - continue: ignores down below and goes forward w/ next iteration\n",
    "    - break: stops the whole loop"
   ]
  }
 ],
 "metadata": {
  "kernelspec": {
   "display_name": "Python 3 (ipykernel)",
   "language": "python",
   "name": "python3"
  },
  "language_info": {
   "codemirror_mode": {
    "name": "ipython",
    "version": 3
   },
   "file_extension": ".py",
   "mimetype": "text/x-python",
   "name": "python",
   "nbconvert_exporter": "python",
   "pygments_lexer": "ipython3",
   "version": "3.9.13"
  },
  "nbTranslate": {
   "displayLangs": [
    "en",
    "es"
   ],
   "hotkey": "alt-a",
   "langInMainMenu": true,
   "sourceLang": "es",
   "targetLang": "en",
   "useGoogleTranslate": true
  },
  "toc": {
   "base_numbering": 1,
   "nav_menu": {},
   "number_sections": true,
   "sideBar": true,
   "skip_h1_title": true,
   "title_cell": "Table of Contents",
   "title_sidebar": "Contents",
   "toc_cell": true,
   "toc_position": {
    "height": "calc(100% - 180px)",
    "left": "10px",
    "top": "150px",
    "width": "253.097px"
   },
   "toc_section_display": true,
   "toc_window_display": true
  }
 },
 "nbformat": 4,
 "nbformat_minor": 5
}