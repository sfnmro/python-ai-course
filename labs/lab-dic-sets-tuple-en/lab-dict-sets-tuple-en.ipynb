{
   "cells": [
      {
         "cell_type": "markdown",
         "metadata": {},
         "source": [
            "## Challenge 1: Tuples\n",
            "\n",
            "#### Do you know you can create tuples with only one element?\n",
            "\n",
            "**In the cell below, define a variable `tup` with a single element `\"I\"`.**\n"
         ]
      },
      {
         "cell_type": "code",
         "execution_count": 1,
         "metadata": {},
         "outputs": [],
         "source": [
            "tup = (\"I\",)"
         ]
      },
      {
         "cell_type": "markdown",
         "metadata": {},
         "source": [
            "#### Print the type of `tup`. \n",
            "\n",
            "Make sure its type is correct (i.e. *tuple* instead of *str*)."
         ]
      },
      {
         "cell_type": "code",
         "execution_count": 2,
         "metadata": {},
         "outputs": [
            {
               "name": "stdout",
               "output_type": "stream",
               "text": [
                  "The type of the variable is: <class 'tuple'>\n"
               ]
            }
         ],
         "source": [
            "print('The type of the variable is:', type(tup))"
         ]
      },
      {
         "cell_type": "markdown",
         "metadata": {},
         "source": [
            "#### Now try to append the following elements to `tup`. \n",
            "\n",
            "Are you able to do it? Explain.\n",
            "\n",
            "```\n",
            "\"r\", \"o\", \"n\", \"h\", \"a\", \"c\", \"k',\n",
            "```"
         ]
      },
      {
         "cell_type": "code",
         "execution_count": 3,
         "metadata": {
            "scrolled": true
         },
         "outputs": [
            {
               "name": "stdout",
               "output_type": "stream",
               "text": [
                  "Let's try to append a new element to the tuple.\n",
                  "Error: 'tuple' object has no attribute 'append'\n",
                  "Let's try to concatenate the tuple with another tuple.\n",
                  "The updated tuple is: ('I', 'r', 'o', 'n', 'h', 'u', 'b')\n"
               ]
            }
         ],
         "source": [
            "print(\"Let's try to append a new element to the tuple.\")\n",
            "try:\n",
            "    tup.append(\"r\")\n",
            "    print('The updated tuple is:', tup)\n",
            "except Exception as e:\n",
            "    print('Error:', e)\n",
            "# Explanation: Tuples are immutable, so they do not support append() method.\n",
            "# However, you can add items to a tuple by concatenating it with another tuple:\n",
            "print(\"Let's try to concatenate the tuple with another tuple.\")\n",
            "tup += (\"r\", \"o\", \"n\", \"h\", \"u\", \"b\")\n",
            "print('The updated tuple is:', tup)"
         ]
      },
      {
         "cell_type": "markdown",
         "metadata": {},
         "source": [
            "#### How about re-assign a new value to an existing tuple?\n",
            "\n",
            "Re-assign the following elements to `tup`. Are you able to do it? Explain.\n",
            "\n",
            "```\n",
            "\"I\", \"r\", \"o\", \"n\", \"h\", \"a\", \"c\", \"k\"\n",
            "```"
         ]
      },
      {
         "cell_type": "code",
         "execution_count": 4,
         "metadata": {},
         "outputs": [
            {
               "name": "stdout",
               "output_type": "stream",
               "text": [
                  "('I', 'r', 'o', 'n', 'h', 'a', 'c', 'k')\n"
               ]
            }
         ],
         "source": [
            "tup = (\"I\", \"r\", \"o\", \"n\", \"h\", \"a\", \"c\", \"k\")\n",
            "print(tup)\n",
            "\n",
            "# Explanation: Tuples are immutable, but we can reassign a new tuple to the same variable."
         ]
      },
      {
         "cell_type": "markdown",
         "metadata": {},
         "source": [
            "#### Split `tup` into `tup1` and `tup2` with 4 elements in each. \n",
            "\n",
            "`tup1` should be `(\"I\", \"r\", \"o\", \"n\")` and `tup2` should be `(\"h\", \"a\", \"c\", \"k\")`.\n",
            "\n",
            "*Hint: use positive index numbers for `tup1` assignment and use negative index numbers for `tup2` assignment. Positive index numbers count from the beginning whereas negative index numbers count from the end of the sequence.*\n",
            "\n",
            "Also print `tup1` and `tup2`."
         ]
      },
      {
         "cell_type": "code",
         "execution_count": 5,
         "metadata": {},
         "outputs": [
            {
               "name": "stdout",
               "output_type": "stream",
               "text": [
                  "tup1: ('I', 'r', 'o', 'n')\n",
                  "tup2: ('h', 'a', 'c', 'k')\n"
               ]
            }
         ],
         "source": [
            "tup1 = tup[:4]\n",
            "tup2 = tup[4:]\n",
            "print('tup1:', tup1)\n",
            "print('tup2:', tup2)"
         ]
      },
      {
         "cell_type": "markdown",
         "metadata": {},
         "source": [
            "#### Add `tup1` and `tup2` into `tup3` using the `+` operator.\n",
            "\n",
            "Then print `tup3` and check if `tup3` equals to `tup`."
         ]
      },
      {
         "cell_type": "code",
         "execution_count": 6,
         "metadata": {},
         "outputs": [
            {
               "name": "stdout",
               "output_type": "stream",
               "text": [
                  "tup3: ('I', 'r', 'o', 'n', 'h', 'a', 'c', 'k')\n",
                  "tup == tup3: True\n"
               ]
            }
         ],
         "source": [
            "tup3 = tup1 + tup2\n",
            "print('tup3:', tup3)\n",
            "print('tup == tup3:', tup == tup3)"
         ]
      },
      {
         "cell_type": "markdown",
         "metadata": {},
         "source": [
            "#### Count the number of elements in `tup1` and `tup2`. Then add the two counts together and check if the sum is the same as the number of elements in `tup3`."
         ]
      },
      {
         "cell_type": "code",
         "execution_count": 7,
         "metadata": {},
         "outputs": [
            {
               "name": "stdout",
               "output_type": "stream",
               "text": [
                  "count_tup1 + count_tup2: 8\n",
                  "count_tup3: 8\n",
                  "count_tup1 + count_tup2 == count_tup3: True\n"
               ]
            }
         ],
         "source": [
            "count_tup1 = len(tup1)\n",
            "count_tup2 = len(tup2)\n",
            "count_tup3 = len(tup3)\n",
            "print('count_tup1 + count_tup2:', count_tup1 + count_tup2)\n",
            "print('count_tup3:', count_tup3)\n",
            "print('count_tup1 + count_tup2 == count_tup3:', count_tup1 + count_tup2 == count_tup3)"
         ]
      },
      {
         "cell_type": "markdown",
         "metadata": {},
         "source": [
            "#### What is the index number of `\"h\"` in `tup3`?"
         ]
      },
      {
         "cell_type": "code",
         "execution_count": 8,
         "metadata": {},
         "outputs": [
            {
               "name": "stdout",
               "output_type": "stream",
               "text": [
                  "\"h\" is at index: 4\n"
               ]
            }
         ],
         "source": [
            "index_h = tup3.index(\"h\")\n",
            "print('\"h\" is at index:', index_h)"
         ]
      },
      {
         "cell_type": "markdown",
         "metadata": {},
         "source": [
            "#### Now, use a FOR loop to check whether each letter in the following list is present in `tup3`:\n",
            "\n",
            "```\n",
            "letters = [\"a\", \"b\", \"c\", \"d\", \"e\"]\n",
            "```\n",
            "\n",
            "For each letter you check, print `True` if it is present in `tup3` otherwise print `False`.\n",
            "\n",
            "*Hint: you only need to loop `letters`. You don't need to loop `tup3` because there is a Python operator `in` you can use. See [reference](https://stackoverflow.com/questions/17920147/how-to-check-if-a-tuple-contains-an-element-in-python).*"
         ]
      },
      {
         "cell_type": "code",
         "execution_count": 9,
         "metadata": {},
         "outputs": [
            {
               "name": "stdout",
               "output_type": "stream",
               "text": [
                  "a: True\n",
                  "b: False\n",
                  "c: True\n",
                  "d: False\n",
                  "e: False\n"
               ]
            }
         ],
         "source": [
            "letters = [\"a\", \"b\", \"c\", \"d\", \"e\"]\n",
            "for letter in letters:\n",
            "    print(f\"{letter}: {letter in tup3}\")"
         ]
      },
      {
         "cell_type": "markdown",
         "metadata": {},
         "source": [
            "#### How many times does each letter in `letters` appear in `tup3`?\n",
            "\n",
            "Print out the number of occurrence of each letter."
         ]
      },
      {
         "cell_type": "code",
         "execution_count": 10,
         "metadata": {},
         "outputs": [
            {
               "name": "stdout",
               "output_type": "stream",
               "text": [
                  "a: 1\n",
                  "b: 0\n",
                  "c: 1\n",
                  "d: 0\n",
                  "e: 0\n"
               ]
            }
         ],
         "source": [
            "for letter in letters:\n",
            "    print(f\"{letter}: {tup3.count(letter)}\")"
         ]
      },
      {
         "cell_type": "markdown",
         "metadata": {},
         "source": [
            "## Challenge 2: Sets\n",
            "\n",
            "There are a lot to learn about Python Sets and the information presented in the lesson is limited due to its length. To learn Python Sets in depth you are strongly encouraged to review the W3Schools tutorial on [Python Sets Examples and Methods](https://www.w3schools.com/python/python_sets.asp) before you work on this lab. Some difficult questions in this lab have their solutions in the W3Schools tutorial.\n",
            "\n",
            "#### First, import the Python `random` library."
         ]
      },
      {
         "cell_type": "code",
         "execution_count": 11,
         "metadata": {},
         "outputs": [],
         "source": [
            "import random"
         ]
      },
      {
         "cell_type": "markdown",
         "metadata": {},
         "source": [
            "#### In the cell below, create a list named `sample_list_1` with 80 random values. \n",
            "\n",
            "Requirements:\n",
            "\n",
            "* Each value is an integer falling between 0 and 100.\n",
            "* Each value in the list is unique.\n",
            "\n",
            "Print `sample_list_1` to review its values\n",
            "\n",
            "*Hint: use `random.sample` ([reference](https://docs.python.org/3/library/random.html#random.sample)).*"
         ]
      },
      {
         "cell_type": "code",
         "execution_count": 12,
         "metadata": {},
         "outputs": [
            {
               "name": "stdout",
               "output_type": "stream",
               "text": [
                  "[50, 40, 96, 24, 63, 91, 57, 12, 72, 78, 74, 95, 35, 77, 0, 60, 92, 65, 33, 59, 89, 3, 87, 26, 34, 85, 45, 30, 99, 7, 69, 70, 93, 39, 97, 16, 76, 8, 53, 36, 94, 67, 38, 98, 86, 58, 41, 64, 49, 66, 73, 81, 11, 44, 10, 68, 88, 47, 17, 28, 27, 6, 62, 37, 75, 22, 46, 54, 61, 9, 21, 51, 14, 79, 83, 82, 84, 29, 18, 43]\n"
               ]
            }
         ],
         "source": [
            "sample_list_1 = random.sample(range(101), 80)\n",
            "print(sample_list_1)"
         ]
      },
      {
         "cell_type": "markdown",
         "metadata": {},
         "source": [
            "#### Convert `sample_list_1` to a set called `set1`. Print the length of the set. Is its length still 80?"
         ]
      },
      {
         "cell_type": "code",
         "execution_count": 13,
         "metadata": {},
         "outputs": [
            {
               "name": "stdout",
               "output_type": "stream",
               "text": [
                  "Length of the set: 80\n"
               ]
            }
         ],
         "source": [
            "set1 = set(sample_list_1)\n",
            "print('Length of the set:', len(set1))\n",
            "# Yes, the length of the set is less than 80 because the set removes duplicates."
         ]
      },
      {
         "cell_type": "markdown",
         "metadata": {},
         "source": [
            "#### Create another list named `sample_list_2` with 80 random values.\n",
            "\n",
            "Requirements:\n",
            "\n",
            "* Each value is an integer falling between 0 and 100.\n",
            "* The values in the list don't have to be unique.\n",
            "\n",
            "*Hint: Use a FOR loop.*"
         ]
      },
      {
         "cell_type": "code",
         "execution_count": 14,
         "metadata": {},
         "outputs": [
            {
               "name": "stdout",
               "output_type": "stream",
               "text": [
                  "[89, 47, 31, 87, 24, 21, 38, 44, 66, 34, 25, 31, 94, 53, 100, 55, 55, 63, 77, 91, 73, 75, 6, 59, 24, 57, 0, 11, 75, 34, 47, 37, 49, 76, 15, 24, 99, 85, 91, 63, 20, 99, 45, 30, 87, 96, 93, 10, 94, 60, 27, 72, 8, 92, 82, 16, 45, 9, 97, 28, 97, 0, 8, 27, 84, 62, 12, 70, 49, 90, 39, 72, 20, 29, 88, 36, 59, 11, 50, 34]\n"
               ]
            }
         ],
         "source": [
            "sample_list_2 = [random.randint(0, 100) for i in range(80)]\n",
            "print(sample_list_2)"
         ]
      },
      {
         "cell_type": "markdown",
         "metadata": {},
         "source": [
            "#### Convert `sample_list_2` to a set called `set2`. Print the length of the set. Is its length still 80?"
         ]
      },
      {
         "cell_type": "code",
         "execution_count": 15,
         "metadata": {},
         "outputs": [
            {
               "name": "stdout",
               "output_type": "stream",
               "text": [
                  "Length of the set: 57\n"
               ]
            }
         ],
         "source": [
            "set2 = set(sample_list_2)\n",
            "print('Length of the set:', len(set2))\n",
            "# No, the length is not 80 because there are duplicate values. Unless we're really lucky :)"
         ]
      },
      {
         "cell_type": "markdown",
         "metadata": {},
         "source": [
            "#### Identify the elements present in `set1` but not in `set2`. Assign the elements to a new set named `set3`."
         ]
      },
      {
         "cell_type": "code",
         "execution_count": 16,
         "metadata": {},
         "outputs": [
            {
               "name": "stdout",
               "output_type": "stream",
               "text": [
                  "set3: {3, 7, 14, 17, 18, 22, 26, 33, 35, 40, 41, 43, 46, 51, 54, 58, 61, 64, 65, 67, 68, 69, 74, 78, 79, 81, 83, 86, 95, 98}\n"
               ]
            }
         ],
         "source": [
            "set3 = set1 - set2\n",
            "print('set3:', set3)"
         ]
      },
      {
         "cell_type": "markdown",
         "metadata": {},
         "source": [
            "#### Identify the elements present in `set2` but not in `set1`. Assign the elements to a new set named `set4`."
         ]
      },
      {
         "cell_type": "code",
         "execution_count": 17,
         "metadata": {},
         "outputs": [
            {
               "name": "stdout",
               "output_type": "stream",
               "text": [
                  "set4: {100, 15, 20, 55, 25, 90, 31}\n"
               ]
            }
         ],
         "source": [
            "set4 = set2 - set1\n",
            "print('set4:', set4)"
         ]
      },
      {
         "cell_type": "markdown",
         "metadata": {},
         "source": [
            "#### Now Identify the elements shared between `set1` and `set2`. Assign the elements to a new set named `set5`."
         ]
      },
      {
         "cell_type": "code",
         "execution_count": 18,
         "metadata": {},
         "outputs": [
            {
               "name": "stdout",
               "output_type": "stream",
               "text": [
                  "set5: {0, 6, 8, 9, 10, 11, 12, 16, 21, 24, 27, 28, 29, 30, 34, 36, 37, 38, 39, 44, 45, 47, 49, 50, 53, 57, 59, 60, 62, 63, 66, 70, 72, 73, 75, 76, 77, 82, 84, 85, 87, 88, 89, 91, 92, 93, 94, 96, 97, 99}\n"
               ]
            }
         ],
         "source": [
            "set5 = set1 & set2\n",
            "print('set5:', set5)"
         ]
      },
      {
         "cell_type": "markdown",
         "metadata": {},
         "source": [
            "#### What is the relationship among the following values:\n",
            "\n",
            "* len(set1)\n",
            "* len(set2)\n",
            "* len(set3)\n",
            "* len(set4)\n",
            "* len(set5)\n",
            "\n",
            "Use a math formular to represent that relationship. Test your formular with Python code."
         ]
      },
      {
         "cell_type": "code",
         "execution_count": 19,
         "metadata": {},
         "outputs": [
            {
               "name": "stdout",
               "output_type": "stream",
               "text": [
                  "len_set1 + len_set2 = len_set3 + len_set4 + 2 * len_set5\n",
                  "80 + 57 = 30 + 7 + 2 * 50\n",
                  "True\n"
               ]
            }
         ],
         "source": [
            "len_set1 = len(set1) # Set of 80 values\n",
            "len_set2 = len(set2) # Set of X values\n",
            "len_set3 = len(set3) # Values in set1 but not in set2\n",
            "len_set4 = len(set4) # Values in set2 but not in set1\n",
            "len_set5 = len(set5) # Values in both set1 and set2\n",
            "\n",
            "# I struggled a bit with the math here :D\n",
            "# len_set1 = len_set3 + len_set5\n",
            "# len_set2 = len_set4 + len_set5\n",
            "# therefore, len_set1 + len_set2 = len_set3 + len_set5 + len_set4 + len_set5 = len_set3 + len_set4 + 2 * len_set5\n",
            "print(\"len_set1 + len_set2 = len_set3 + len_set4 + 2 * len_set5\")\n",
            "print(f\"{len_set1} + {len_set2} = {len_set3} + {len_set4} + 2 * {len_set5}\")\n",
            "print(len_set1 + len_set2 == len_set3 + len_set4 + 2 * len_set5)"
         ]
      },
      {
         "cell_type": "markdown",
         "metadata": {},
         "source": [
            "#### Create an empty set called `set6`."
         ]
      },
      {
         "cell_type": "code",
         "execution_count": 20,
         "metadata": {},
         "outputs": [],
         "source": [
            "set6 = set()"
         ]
      },
      {
         "cell_type": "markdown",
         "metadata": {},
         "source": [
            "#### Add `set3` and `set5` to `set6` using the Python Set `update` method."
         ]
      },
      {
         "cell_type": "code",
         "execution_count": 21,
         "metadata": {},
         "outputs": [
            {
               "name": "stdout",
               "output_type": "stream",
               "text": [
                  "set6: {0, 3, 6, 7, 8, 9, 10, 11, 12, 14, 16, 17, 18, 21, 22, 24, 26, 27, 28, 29, 30, 33, 34, 35, 36, 37, 38, 39, 40, 41, 43, 44, 45, 46, 47, 49, 50, 51, 53, 54, 57, 58, 59, 60, 61, 62, 63, 64, 65, 66, 67, 68, 69, 70, 72, 73, 74, 75, 76, 77, 78, 79, 81, 82, 83, 84, 85, 86, 87, 88, 89, 91, 92, 93, 94, 95, 96, 97, 98, 99}\n"
               ]
            }
         ],
         "source": [
            "set6.update(set3)\n",
            "set6.update(set5)\n",
            "print('set6:', set6)"
         ]
      },
      {
         "cell_type": "markdown",
         "metadata": {},
         "source": [
            "#### Check if `set1` and `set6` are equal."
         ]
      },
      {
         "cell_type": "code",
         "execution_count": 22,
         "metadata": {},
         "outputs": [
            {
               "name": "stdout",
               "output_type": "stream",
               "text": [
                  "set1 == set6: True\n"
               ]
            }
         ],
         "source": [
            "print('set1 == set6:', set1 == set6)"
         ]
      },
      {
         "cell_type": "markdown",
         "metadata": {},
         "source": [
            "#### Check if `set1` contains `set2` using the Python Set `issubset` method. Then check if `set1` contains `set3`."
         ]
      },
      {
         "cell_type": "code",
         "execution_count": 23,
         "metadata": {},
         "outputs": [
            {
               "name": "stdout",
               "output_type": "stream",
               "text": [
                  "set2 subset of set1: False\n",
                  "set3 subset of set1: True\n"
               ]
            }
         ],
         "source": [
            "print('set2 subset of set1:', set2.issubset(set1))\n",
            "print('set3 subset of set1:', set3.issubset(set1))"
         ]
      },
      {
         "cell_type": "markdown",
         "metadata": {},
         "source": [
            "#### Using the Python Set `union` method, aggregate `set3`, `set4`, and `set5`. Then aggregate `set1` and `set2`. \n",
            "\n",
            "#### Check if the aggregated values are equal."
         ]
      },
      {
         "cell_type": "code",
         "execution_count": 24,
         "metadata": {},
         "outputs": [
            {
               "name": "stdout",
               "output_type": "stream",
               "text": [
                  "set_345: {0, 3, 6, 7, 8, 9, 10, 11, 12, 14, 15, 16, 17, 18, 20, 21, 22, 24, 25, 26, 27, 28, 29, 30, 31, 33, 34, 35, 36, 37, 38, 39, 40, 41, 43, 44, 45, 46, 47, 49, 50, 51, 53, 54, 55, 57, 58, 59, 60, 61, 62, 63, 64, 65, 66, 67, 68, 69, 70, 72, 73, 74, 75, 76, 77, 78, 79, 81, 82, 83, 84, 85, 86, 87, 88, 89, 90, 91, 92, 93, 94, 95, 96, 97, 98, 99, 100}\n",
                  "set_12: {0, 3, 6, 7, 8, 9, 10, 11, 12, 14, 15, 16, 17, 18, 20, 21, 22, 24, 25, 26, 27, 28, 29, 30, 31, 33, 34, 35, 36, 37, 38, 39, 40, 41, 43, 44, 45, 46, 47, 49, 50, 51, 53, 54, 55, 57, 58, 59, 60, 61, 62, 63, 64, 65, 66, 67, 68, 69, 70, 72, 73, 74, 75, 76, 77, 78, 79, 81, 82, 83, 84, 85, 86, 87, 88, 89, 90, 91, 92, 93, 94, 95, 96, 97, 98, 99, 100}\n",
                  "set_345 == set_12: True\n"
               ]
            }
         ],
         "source": [
            "set_345 = set3.union(set4).union(set5)\n",
            "set_12 = set1.union(set2)\n",
            "print('set_345:', set_345)\n",
            "print('set_12:', set_12)\n",
            "print('set_345 == set_12:', set_345 == set_12)"
         ]
      },
      {
         "cell_type": "markdown",
         "metadata": {},
         "source": [
            "#### Using the `pop` method, remove the first element from `set1`."
         ]
      },
      {
         "cell_type": "code",
         "execution_count": 25,
         "metadata": {},
         "outputs": [
            {
               "name": "stdout",
               "output_type": "stream",
               "text": [
                  "element removed from set1: 0\n"
               ]
            }
         ],
         "source": [
            "print('element removed from set1:', set1.pop())"
         ]
      },
      {
         "cell_type": "markdown",
         "metadata": {},
         "source": [
            "#### Remove every element in the following list from `set1` if they are present in the set. Print the remaining elements.\n",
            "\n",
            "```\n",
            "list_to_remove = [1, 9, 11, 19, 21, 29, 31, 39, 41, 49, 51, 59, 61, 69, 71, 79, 81, 89, 91, 99]\n",
            "```"
         ]
      },
      {
         "cell_type": "code",
         "execution_count": 26,
         "metadata": {},
         "outputs": [
            {
               "name": "stdout",
               "output_type": "stream",
               "text": [
                  "remaining elements in set1: {3, 6, 7, 8, 10, 12, 14, 16, 17, 18, 22, 24, 26, 27, 28, 30, 33, 34, 35, 36, 37, 38, 40, 43, 44, 45, 46, 47, 50, 53, 54, 57, 58, 60, 62, 63, 64, 65, 66, 67, 68, 70, 72, 73, 74, 75, 76, 77, 78, 82, 83, 84, 85, 86, 87, 88, 92, 93, 94, 95, 96, 97, 98}\n"
               ]
            }
         ],
         "source": [
            "list_to_remove = [1, 9, 11, 19, 21, 29, 31, 39, 41, 49, 51, 59, 61, 69, 71, 79, 81, 89, 91, 99]\n",
            "set_to_remove = set(list_to_remove)\n",
            "set1 = set1 - set_to_remove\n",
            "print('remaining elements in set1:', set1)"
         ]
      },
      {
         "cell_type": "markdown",
         "metadata": {},
         "source": [
            "## BONUS - Challenge 3: Dictionaries\n",
            "\n",
            "In this challenge you will practice how to manipulate Python dictionaries. Before starting on this challenge, you are encouraged to review W3School's [Python Dictionary Examples and Methods](https://www.w3schools.com/python/python_dictionaries.asp).\n",
            "\n",
            "First thing you will practice is how to sort the keys in a dictionary. Unlike the list object, Python dictionary does not have a built-in *sort* method. You'll need to use FOR loops to to sort dictionaries either by key or by value.\n",
            "\n",
            "The dictionary below is a summary of the word frequency of Ed Sheeran's song *Shape of You*. Each key is a word in the lyrics and the value is the number of times that word appears in the lyrics."
         ]
      },
      {
         "cell_type": "code",
         "execution_count": 27,
         "metadata": {},
         "outputs": [],
         "source": [
            "word_freq = {'love': 25, 'conversation': 1, 'every': 6, \"we're\": 1, 'plate': 1, 'sour': 1, 'jukebox': 1, 'now': 11, 'taxi': 1, 'fast': 1, 'bag': 1, 'man': 1, 'push': 3, 'baby': 14, 'going': 1, 'you': 16, \"don't\": 2, 'one': 1, 'mind': 2, 'backseat': 1, 'friends': 1, 'then': 3, 'know': 2, 'take': 1, 'play': 1, 'okay': 1, 'so': 2, 'begin': 1, 'start': 2, 'over': 1, 'body': 17, 'boy': 2, 'just': 1, 'we': 7, 'are': 1, 'girl': 2, 'tell': 1, 'singing': 2, 'drinking': 1, 'put': 3, 'our': 1, 'where': 1, \"i'll\": 1, 'all': 1, \"isn't\": 1, 'make': 1, 'lover': 1, 'get': 1, 'radio': 1, 'give': 1, \"i'm\": 23, 'like': 10, 'can': 1, 'doing': 2, 'with': 22, 'club': 1, 'come': 37, 'it': 1, 'somebody': 2, 'handmade': 2, 'out': 1, 'new': 6, 'room': 3, 'chance': 1, 'follow': 6, 'in': 27, 'may': 2, 'brand': 6, 'that': 2, 'magnet': 3, 'up': 3, 'first': 1, 'and': 23, 'pull': 3, 'of': 6, 'table': 1, 'much': 2, 'last': 3, 'i': 6, 'thrifty': 1, 'grab': 2, 'was': 2, 'driver': 1, 'slow': 1, 'dance': 1, 'the': 18, 'say': 2, 'trust': 1, 'family': 1, 'week': 1, 'date': 1, 'me': 10, 'do': 3, 'waist': 2, 'smell': 3, 'day': 6, 'although': 3, 'your': 21, 'leave': 1, 'want': 2, \"let's\": 2, 'lead': 6, 'at': 1, 'hand': 1, 'how': 1, 'talk': 4, 'not': 2, 'eat': 1, 'falling': 3, 'about': 1, 'story': 1, 'sweet': 1, 'best': 1, 'crazy': 2, 'let': 1, 'too': 5, 'van': 1, 'shots': 1, 'go': 2, 'to': 2, 'a': 8, 'my': 33, 'is': 5, 'place': 1, 'find': 1, 'shape': 6, 'on': 40, 'kiss': 1, 'were': 3, 'night': 3, 'heart': 3, 'for': 3, 'discovering': 6, 'something': 6, 'be': 16, 'bedsheets': 3, 'fill': 2, 'hours': 2, 'stop': 1, 'bar': 1}"
         ]
      },
      {
         "cell_type": "markdown",
         "metadata": {},
         "source": [
            "#### Sort the keys of `word_freq` ascendingly.\n",
            "\n",
            "Please create a new dictionary called `word_freq2` based on `word_freq` with the keys sorted ascedingly.\n",
            "\n",
            "There are several ways to achieve that goal but many of the ways are beyond what we have covered so far in the course. There is one way that we'll describe employing what you have learned. Please feel free to use this way or any other way you want.\n",
            "\n",
            "1. First extract the keys of `word_freq` and convert it to a list called `keys`.\n",
            "\n",
            "1. Sort the `keys` list.\n",
            "\n",
            "1. Create an empty dictionary `word_freq2`.\n",
            "\n",
            "1. Use a FOR loop to iterate each value in `keys`. For each key iterated, find the corresponding value in `word_freq` and insert the key-value pair to `word_freq2`.\n",
            "\n",
            "📖 [Documentation for a for loop](https://docs.python.org/3/reference/compound_stmts.html#for)\n",
            "\n",
            "Print out `word_freq2` to examine its keys and values. Your output should be:\n",
            "\n",
            "```python\n",
            "{'a': 8, 'about': 1, 'all': 1, 'although': 3, 'and': 23, 'are': 1, 'at': 1, 'baby': 14, 'backseat': 1, 'bag': 1, 'bar': 1, 'be': 16, 'bedsheets': 3, 'begin': 1, 'best': 1, 'body': 17, 'boy': 2, 'brand': 6, 'can': 1, 'chance': 1, 'club': 1, 'come': 37, 'conversation': 1, 'crazy': 2, 'dance': 1, 'date': 1, 'day': 6, 'discovering': 6, 'do': 3, 'doing': 2, \"don't\": 2, 'drinking': 1, 'driver': 1, 'eat': 1, 'every': 6, 'falling': 3, 'family': 1, 'fast': 1, 'fill': 2, 'find': 1, 'first': 1, 'follow': 6, 'for': 3, 'friends': 1, 'get': 1, 'girl': 2, 'give': 1, 'go': 2, 'going': 1, 'grab': 2, 'hand': 1, 'handmade': 2, 'heart': 3, 'hours': 2, 'how': 1, 'i': 6, \"i'll\": 1, \"i'm\": 23, 'in': 27, 'is': 5, \"isn't\": 1, 'it': 1, 'jukebox': 1, 'just': 1, 'kiss': 1, 'know': 2, 'last': 3, 'lead': 6, 'leave': 1, 'let': 1, \"let's\": 2, 'like': 10, 'love': 25, 'lover': 1, 'magnet': 3, 'make': 1, 'man': 1, 'may': 2, 'me': 10, 'mind': 2, 'much': 2, 'my': 33, 'new': 6, 'night': 3, 'not': 2, 'now': 11, 'of': 6, 'okay': 1, 'on': 40, 'one': 1, 'our': 1, 'out': 1, 'over': 1, 'place': 1, 'plate': 1, 'play': 1, 'pull': 3, 'push': 3, 'put': 3, 'radio': 1, 'room': 3, 'say': 2, 'shape': 6, 'shots': 1, 'singing': 2, 'slow': 1, 'smell': 3, 'so': 2, 'somebody': 2, 'something': 6, 'sour': 1, 'start': 2, 'stop': 1, 'story': 1, 'sweet': 1, 'table': 1, 'take': 1, 'talk': 4, 'taxi': 1, 'tell': 1, 'that': 2, 'the': 18, 'then': 3, 'thrifty': 1, 'to': 2, 'too': 5, 'trust': 1, 'up': 3, 'van': 1, 'waist': 2, 'want': 2, 'was': 2, 'we': 7, \"we're\": 1, 'week': 1, 'were': 3, 'where': 1, 'with': 22, 'you': 16, 'your': 21}\n",
            "```"
         ]
      },
      {
         "cell_type": "code",
         "execution_count": 28,
         "metadata": {},
         "outputs": [
            {
               "name": "stdout",
               "output_type": "stream",
               "text": [
                  "{'a': 8, 'about': 1, 'all': 1, 'although': 3, 'and': 23, 'are': 1, 'at': 1, 'baby': 14, 'backseat': 1, 'bag': 1, 'bar': 1, 'be': 16, 'bedsheets': 3, 'begin': 1, 'best': 1, 'body': 17, 'boy': 2, 'brand': 6, 'can': 1, 'chance': 1, 'club': 1, 'come': 37, 'conversation': 1, 'crazy': 2, 'dance': 1, 'date': 1, 'day': 6, 'discovering': 6, 'do': 3, 'doing': 2, \"don't\": 2, 'drinking': 1, 'driver': 1, 'eat': 1, 'every': 6, 'falling': 3, 'family': 1, 'fast': 1, 'fill': 2, 'find': 1, 'first': 1, 'follow': 6, 'for': 3, 'friends': 1, 'get': 1, 'girl': 2, 'give': 1, 'go': 2, 'going': 1, 'grab': 2, 'hand': 1, 'handmade': 2, 'heart': 3, 'hours': 2, 'how': 1, 'i': 6, \"i'll\": 1, \"i'm\": 23, 'in': 27, 'is': 5, \"isn't\": 1, 'it': 1, 'jukebox': 1, 'just': 1, 'kiss': 1, 'know': 2, 'last': 3, 'lead': 6, 'leave': 1, 'let': 1, \"let's\": 2, 'like': 10, 'love': 25, 'lover': 1, 'magnet': 3, 'make': 1, 'man': 1, 'may': 2, 'me': 10, 'mind': 2, 'much': 2, 'my': 33, 'new': 6, 'night': 3, 'not': 2, 'now': 11, 'of': 6, 'okay': 1, 'on': 40, 'one': 1, 'our': 1, 'out': 1, 'over': 1, 'place': 1, 'plate': 1, 'play': 1, 'pull': 3, 'push': 3, 'put': 3, 'radio': 1, 'room': 3, 'say': 2, 'shape': 6, 'shots': 1, 'singing': 2, 'slow': 1, 'smell': 3, 'so': 2, 'somebody': 2, 'something': 6, 'sour': 1, 'start': 2, 'stop': 1, 'story': 1, 'sweet': 1, 'table': 1, 'take': 1, 'talk': 4, 'taxi': 1, 'tell': 1, 'that': 2, 'the': 18, 'then': 3, 'thrifty': 1, 'to': 2, 'too': 5, 'trust': 1, 'up': 3, 'van': 1, 'waist': 2, 'want': 2, 'was': 2, 'we': 7, \"we're\": 1, 'week': 1, 'were': 3, 'where': 1, 'with': 22, 'you': 16, 'your': 21}\n"
               ]
            }
         ],
         "source": [
            "keys = list(word_freq.keys())\n",
            "keys.sort()\n",
            "word_freq2 = {}\n",
            "for key in keys:\n",
            "    word_freq2[key] = word_freq[key]\n",
            "print(word_freq2)"
         ]
      },
      {
         "cell_type": "markdown",
         "metadata": {},
         "source": [
            "#### Sort the values of `word_freq` ascendingly.\n",
            "\n",
            "Sorting the values of a dictionary is more tricky than sorting the keys because a dictionary's values are not unique. Therefore you cannot use the same way you sorted dict keys to sort dict values.\n",
            "\n",
            "The way to sort a dict by value is to utilize the `sorted` and `operator.itemgetter` functions. The following code snippet is provided to you to try. It will give you a list of tuples in which each tuple contains the key and value of a dict item. And the list is sorted based on the dict value ( [reference](http://thomas-cokelaer.info/blog/2017/12/how-to-sort-a-dictionary-by-values-in-python/)\n",
            ").\n",
            "\n",
            "```python\n",
            "import operator\n",
            "sorted_tups = sorted(word_freq.items(), key=operator.itemgetter(1))\n",
            "print(sorted_tups)\n",
            "```\n",
            "\n",
            "Therefore, the steps to sort `word_freq` by value are:\n",
            "\n",
            "* Using `sorted` and `operator.itemgetter`, obtain a list of tuples of the dict key-value pairs which is sorted on the value.\n",
            "\n",
            "* Create an empty dictionary named `word_freq2`.\n",
            "\n",
            "* Iterate the list of tuples. Insert each key-value pair into `word_freq2` as an object.\n",
            "\n",
            "Print `word_freq2` to confirm your dictionary has its values sorted. Your output should be:\n",
            "\n",
            "```python\n",
            "{'conversation': 1, \"we're\": 1, 'plate': 1, 'sour': 1, 'jukebox': 1, 'taxi': 1, 'fast': 1, 'bag': 1, 'man': 1, 'going': 1, 'one': 1, 'backseat': 1, 'friends': 1, 'take': 1, 'play': 1, 'okay': 1, 'begin': 1, 'over': 1, 'just': 1, 'are': 1, 'tell': 1, 'drinking': 1, 'our': 1, 'where': 1, \"i'll\": 1, 'all': 1, \"isn't\": 1, 'make': 1, 'lover': 1, 'get': 1, 'radio': 1, 'give': 1, 'can': 1, 'club': 1, 'it': 1, 'out': 1, 'chance': 1, 'first': 1, 'table': 1, 'thrifty': 1, 'driver': 1, 'slow': 1, 'dance': 1, 'trust': 1, 'family': 1, 'week': 1, 'date': 1, 'leave': 1, 'at': 1, 'hand': 1, 'how': 1, 'i': 6, \"i'll\": 1, \"i'm\": 23, 'in': 27, 'is': 5, \"isn't\": 1, 'it': 1, 'jukebox': 1, 'just': 1, 'kiss': 1, 'know': 2, 'last': 3, 'lead': 6, 'leave': 1, 'let': 1, \"let's\": 2, 'like': 10, 'love': 25, 'lover': 1, 'magnet': 3, 'make': 1, 'man': 1, 'may': 2, 'me': 10, 'mind': 2, 'much': 2, 'my': 33, 'new': 6, 'night': 3, 'not': 2, 'now': 11, 'of': 6, 'okay': 1, 'on': 40, 'one': 1, 'our': 1, 'out': 1, 'over': 1, 'place': 1, 'plate': 1, 'play': 1, 'pull': 3, 'push': 3, 'put': 3, 'radio': 1, 'room': 3, 'say': 2, 'shape': 6, 'shots': 1, 'singing': 2, 'slow': 1, 'smell': 3, 'so': 2, 'somebody': 2, 'something': 6, 'sour': 1, 'start': 2, 'stop': 1, 'story': 1, 'sweet': 1, 'table': 1, 'take': 1, 'talk': 4, 'taxi': 1, 'tell': 1, 'that': 2, 'the': 18, 'then': 3, 'thrifty': 1, 'to': 2, 'too': 5, 'trust': 1, 'up': 3, 'van': 1, 'waist': 2, 'want': 2, 'was': 2, 'we': 7, \"we're\": 1, 'week': 1, 'were': 3, 'where': 1, 'with': 22, 'you': 16, 'your': 21}\n",
            "```"
         ]
      },
      {
         "cell_type": "code",
         "execution_count": 29,
         "metadata": {},
         "outputs": [
            {
               "name": "stdout",
               "output_type": "stream",
               "text": [
                  "[('conversation', 1), (\"we're\", 1), ('plate', 1), ('sour', 1), ('jukebox', 1), ('taxi', 1), ('fast', 1), ('bag', 1), ('man', 1), ('going', 1), ('one', 1), ('backseat', 1), ('friends', 1), ('take', 1), ('play', 1), ('okay', 1), ('begin', 1), ('over', 1), ('just', 1), ('are', 1), ('tell', 1), ('drinking', 1), ('our', 1), ('where', 1), (\"i'll\", 1), ('all', 1), (\"isn't\", 1), ('make', 1), ('lover', 1), ('get', 1), ('radio', 1), ('give', 1), ('can', 1), ('club', 1), ('it', 1), ('out', 1), ('chance', 1), ('first', 1), ('table', 1), ('thrifty', 1), ('driver', 1), ('slow', 1), ('dance', 1), ('trust', 1), ('family', 1), ('week', 1), ('date', 1), ('leave', 1), ('at', 1), ('hand', 1), ('how', 1), ('eat', 1), ('about', 1), ('story', 1), ('sweet', 1), ('best', 1), ('let', 1), ('van', 1), ('shots', 1), ('place', 1), ('find', 1), ('kiss', 1), ('stop', 1), ('bar', 1), (\"don't\", 2), ('mind', 2), ('know', 2), ('so', 2), ('start', 2), ('boy', 2), ('girl', 2), ('singing', 2), ('doing', 2), ('somebody', 2), ('handmade', 2), ('may', 2), ('that', 2), ('much', 2), ('grab', 2), ('was', 2), ('say', 2), ('waist', 2), ('want', 2), (\"let's\", 2), ('not', 2), ('crazy', 2), ('go', 2), ('to', 2), ('fill', 2), ('hours', 2), ('push', 3), ('then', 3), ('put', 3), ('room', 3), ('magnet', 3), ('up', 3), ('pull', 3), ('last', 3), ('do', 3), ('smell', 3), ('although', 3), ('falling', 3), ('were', 3), ('night', 3), ('heart', 3), ('for', 3), ('bedsheets', 3), ('talk', 4), ('too', 5), ('is', 5), ('every', 6), ('new', 6), ('follow', 6), ('brand', 6), ('of', 6), ('i', 6), ('day', 6), ('lead', 6), ('shape', 6), ('discovering', 6), ('something', 6), ('we', 7), ('a', 8), ('like', 10), ('me', 10), ('now', 11), ('baby', 14), ('you', 16), ('be', 16), ('body', 17), ('the', 18), ('your', 21), ('with', 22), (\"i'm\", 23), ('and', 23), ('love', 25), ('in', 27), ('my', 33), ('come', 37), ('on', 40)]\n"
               ]
            }
         ],
         "source": [
            "import operator\n",
            "sorted_tups = sorted(word_freq.items(), key=operator.itemgetter(1))\n",
            "print(sorted_tups)"
         ]
      },
      {
         "cell_type": "code",
         "execution_count": 30,
         "metadata": {},
         "outputs": [
            {
               "name": "stdout",
               "output_type": "stream",
               "text": [
                  "{'conversation': 1, \"we're\": 1, 'plate': 1, 'sour': 1, 'jukebox': 1, 'taxi': 1, 'fast': 1, 'bag': 1, 'man': 1, 'going': 1, 'one': 1, 'backseat': 1, 'friends': 1, 'take': 1, 'play': 1, 'okay': 1, 'begin': 1, 'over': 1, 'just': 1, 'are': 1, 'tell': 1, 'drinking': 1, 'our': 1, 'where': 1, \"i'll\": 1, 'all': 1, \"isn't\": 1, 'make': 1, 'lover': 1, 'get': 1, 'radio': 1, 'give': 1, 'can': 1, 'club': 1, 'it': 1, 'out': 1, 'chance': 1, 'first': 1, 'table': 1, 'thrifty': 1, 'driver': 1, 'slow': 1, 'dance': 1, 'trust': 1, 'family': 1, 'week': 1, 'date': 1, 'leave': 1, 'at': 1, 'hand': 1, 'how': 1, 'eat': 1, 'about': 1, 'story': 1, 'sweet': 1, 'best': 1, 'let': 1, 'van': 1, 'shots': 1, 'place': 1, 'find': 1, 'kiss': 1, 'stop': 1, 'bar': 1, \"don't\": 2, 'mind': 2, 'know': 2, 'so': 2, 'start': 2, 'boy': 2, 'girl': 2, 'singing': 2, 'doing': 2, 'somebody': 2, 'handmade': 2, 'may': 2, 'that': 2, 'much': 2, 'grab': 2, 'was': 2, 'say': 2, 'waist': 2, 'want': 2, \"let's\": 2, 'not': 2, 'crazy': 2, 'go': 2, 'to': 2, 'fill': 2, 'hours': 2, 'push': 3, 'then': 3, 'put': 3, 'room': 3, 'magnet': 3, 'up': 3, 'pull': 3, 'last': 3, 'do': 3, 'smell': 3, 'although': 3, 'falling': 3, 'were': 3, 'night': 3, 'heart': 3, 'for': 3, 'bedsheets': 3, 'talk': 4, 'too': 5, 'is': 5, 'every': 6, 'new': 6, 'follow': 6, 'brand': 6, 'of': 6, 'i': 6, 'day': 6, 'lead': 6, 'shape': 6, 'discovering': 6, 'something': 6, 'we': 7, 'a': 8, 'like': 10, 'me': 10, 'now': 11, 'baby': 14, 'you': 16, 'be': 16, 'body': 17, 'the': 18, 'your': 21, 'with': 22, \"i'm\": 23, 'and': 23, 'love': 25, 'in': 27, 'my': 33, 'come': 37, 'on': 40}\n"
               ]
            }
         ],
         "source": [
            "word_freq2 = {}\n",
            "for key, value in sorted_tups:\n",
            "    word_freq2[key] = value\n",
            "print(word_freq2)"
         ]
      }
   ],
   "metadata": {
      "kernelspec": {
         "display_name": "Python 3 (ipykernel)",
         "language": "python",
         "name": "python3"
      },
      "language_info": {
         "codemirror_mode": {
            "name": "ipython",
            "version": 3
         },
         "file_extension": ".py",
         "mimetype": "text/x-python",
         "name": "python",
         "nbconvert_exporter": "python",
         "pygments_lexer": "ipython3",
         "version": "3.9.13"
      },
      "vscode": {
         "interpreter": {
            "hash": "aee8b7b246df8f9039afb4144a1f6fd8d2ca17a180786b69acc140d282b71a49"
         }
      }
   },
   "nbformat": 4,
   "nbformat_minor": 2
}
