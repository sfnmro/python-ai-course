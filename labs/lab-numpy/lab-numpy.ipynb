{
 "cells": [
  {
   "cell_type": "markdown",
   "metadata": {},
   "source": [
    "# Exercise 1\n",
    "Import the NUMPY package under the name np."
   ]
  },
  {
   "cell_type": "code",
   "execution_count": 1,
   "metadata": {},
   "outputs": [],
   "source": [
    "import numpy as np"
   ]
  },
  {
   "cell_type": "markdown",
   "metadata": {},
   "source": [
    "# Exercise 2\n",
    "Print the NUMPY version and the configuration."
   ]
  },
  {
   "cell_type": "code",
   "execution_count": 2,
   "metadata": {},
   "outputs": [
    {
     "name": "stdout",
     "output_type": "stream",
     "text": [
      "Numpy version: 1.24.2\n",
      "openblas64__info:\n",
      "    libraries = ['openblas64_', 'openblas64_']\n",
      "    library_dirs = ['/usr/local/lib']\n",
      "    language = c\n",
      "    define_macros = [('HAVE_CBLAS', None), ('BLAS_SYMBOL_SUFFIX', '64_'), ('HAVE_BLAS_ILP64', None)]\n",
      "    runtime_library_dirs = ['/usr/local/lib']\n",
      "blas_ilp64_opt_info:\n",
      "    libraries = ['openblas64_', 'openblas64_']\n",
      "    library_dirs = ['/usr/local/lib']\n",
      "    language = c\n",
      "    define_macros = [('HAVE_CBLAS', None), ('BLAS_SYMBOL_SUFFIX', '64_'), ('HAVE_BLAS_ILP64', None)]\n",
      "    runtime_library_dirs = ['/usr/local/lib']\n",
      "openblas64__lapack_info:\n",
      "    libraries = ['openblas64_', 'openblas64_']\n",
      "    library_dirs = ['/usr/local/lib']\n",
      "    language = c\n",
      "    define_macros = [('HAVE_CBLAS', None), ('BLAS_SYMBOL_SUFFIX', '64_'), ('HAVE_BLAS_ILP64', None), ('HAVE_LAPACKE', None)]\n",
      "    runtime_library_dirs = ['/usr/local/lib']\n",
      "lapack_ilp64_opt_info:\n",
      "    libraries = ['openblas64_', 'openblas64_']\n",
      "    library_dirs = ['/usr/local/lib']\n",
      "    language = c\n",
      "    define_macros = [('HAVE_CBLAS', None), ('BLAS_SYMBOL_SUFFIX', '64_'), ('HAVE_BLAS_ILP64', None), ('HAVE_LAPACKE', None)]\n",
      "    runtime_library_dirs = ['/usr/local/lib']\n",
      "Supported SIMD extensions in this NumPy install:\n",
      "    baseline = NEON,NEON_FP16,NEON_VFPV4,ASIMD\n",
      "    found = ASIMDHP,ASIMDDP\n",
      "    not found = ASIMDFHM\n",
      "Numpy configuration: None\n"
     ]
    }
   ],
   "source": [
    "print('Numpy version:', np.__version__)\n",
    "print('Numpy configuration:', np.show_config())"
   ]
  },
  {
   "cell_type": "markdown",
   "metadata": {},
   "source": [
    "# Exercise 3\n",
    "Generate a 2x3x5 3-dimensional array with random values. Assign the array to variable \"a\"\n",
    "\n",
    "Challenge: there are at least three easy ways that use numpy to generate random arrays. How many ways can you find?"
   ]
  },
  {
   "cell_type": "code",
   "execution_count": 3,
   "metadata": {},
   "outputs": [],
   "source": [
    "# Method 1: Using np.random.random to generate random values between 0 and 1\n",
    "a = np.random.random((2,3,5))\n",
    "\n",
    "# Method 2: Using np.random.rand to generate random values between 0 and 1\n",
    "a2 = np.random.rand(2,3,5)\n",
    "\n",
    "# Method 3: Using np.random.randn to generate random values from a standard normal distribution\n",
    "a3 = np.random.randn(2,3,5)\n",
    "\n",
    "# Method 4: Using np.random.randint to generate random integers (example: between 0 and 10)\n",
    "a4 = np.random.randint(0, 10, (2,3,5))\n",
    "\n",
    "# Method 5: Using np.random.uniform to generate random floats in a specific range (example: between 0 and 5)\n",
    "a5 = np.random.uniform(0, 5, (2,3,5))\n"
   ]
  },
  {
   "cell_type": "markdown",
   "metadata": {},
   "source": [
    "# Exercise 4\n",
    "Print a."
   ]
  },
  {
   "cell_type": "code",
   "execution_count": 4,
   "metadata": {},
   "outputs": [
    {
     "name": "stdout",
     "output_type": "stream",
     "text": [
      "a: [[[0.29485645 0.48396231 0.81449444 0.84515042 0.00770593]\n",
      "  [0.33179939 0.20138757 0.2024915  0.46472928 0.12452575]\n",
      "  [0.62630023 0.83674553 0.03856966 0.46828623 0.21553106]]\n",
      "\n",
      " [[0.07156424 0.35699198 0.47138783 0.22243115 0.09188623]\n",
      "  [0.26824746 0.66983234 0.51901898 0.48640224 0.47413598]\n",
      "  [0.89664816 0.21372797 0.8071379  0.85085318 0.38207381]]]\n"
     ]
    }
   ],
   "source": [
    "print('a:', a)"
   ]
  },
  {
   "cell_type": "markdown",
   "metadata": {},
   "source": [
    "# Exercise 5\n",
    "Create a 5x2x3 3-dimensional array with all values equaling 1.\n",
    "Assign the array to variable \"b\""
   ]
  },
  {
   "cell_type": "code",
   "execution_count": 5,
   "metadata": {},
   "outputs": [],
   "source": [
    "b = np.ones((5,2,3))"
   ]
  },
  {
   "cell_type": "markdown",
   "metadata": {},
   "source": [
    "# Exercise 6\n",
    "Print b."
   ]
  },
  {
   "cell_type": "code",
   "execution_count": 6,
   "metadata": {},
   "outputs": [
    {
     "name": "stdout",
     "output_type": "stream",
     "text": [
      "b: [[[1. 1. 1.]\n",
      "  [1. 1. 1.]]\n",
      "\n",
      " [[1. 1. 1.]\n",
      "  [1. 1. 1.]]\n",
      "\n",
      " [[1. 1. 1.]\n",
      "  [1. 1. 1.]]\n",
      "\n",
      " [[1. 1. 1.]\n",
      "  [1. 1. 1.]]\n",
      "\n",
      " [[1. 1. 1.]\n",
      "  [1. 1. 1.]]]\n"
     ]
    }
   ],
   "source": [
    "print('b:', b)"
   ]
  },
  {
   "cell_type": "markdown",
   "metadata": {},
   "source": [
    "# Exercise 7\n",
    "Do a and b have the same size? How do you prove that in Python code?"
   ]
  },
  {
   "cell_type": "code",
   "execution_count": 7,
   "metadata": {},
   "outputs": [
    {
     "name": "stdout",
     "output_type": "stream",
     "text": [
      "a size: 30\n",
      "b size: 30\n",
      "a size == b size: True\n"
     ]
    }
   ],
   "source": [
    "print('a size:', a.size)\n",
    "print('b size:', b.size)\n",
    "print('a size == b size:', a.size == b.size)\n",
    "# Yes, a and b have the same size because they both have 30 elements."
   ]
  },
  {
   "cell_type": "markdown",
   "metadata": {},
   "source": [
    "# Exercise 8\n",
    "Are you able to add a and b? Why or why not?"
   ]
  },
  {
   "cell_type": "code",
   "execution_count": 8,
   "metadata": {},
   "outputs": [
    {
     "name": "stdout",
     "output_type": "stream",
     "text": [
      "Error: operands could not be broadcast together with shapes (2,3,5) (5,2,3) \n"
     ]
    }
   ],
   "source": [
    "try:\n",
    "    print(a + b)\n",
    "except Exception as e:\n",
    "    print('Error:', e)\n",
    "# No, because the two arrays have different shapes."
   ]
  },
  {
   "cell_type": "markdown",
   "metadata": {},
   "source": [
    "# Exercise 9\n",
    "Transpose b so that it has the same structure of a (i.e. become a 2x3x5 array). Assign the transposed array to variable \"c\"."
   ]
  },
  {
   "cell_type": "code",
   "execution_count": 9,
   "metadata": {},
   "outputs": [],
   "source": [
    "c = np.transpose(b, (1,2,0))"
   ]
  },
  {
   "cell_type": "markdown",
   "metadata": {},
   "source": [
    "# Exercise 10\n",
    "Try to add a and c. Now it should work. Assign the sum to variable \"d\". But why does it work now?"
   ]
  },
  {
   "cell_type": "code",
   "execution_count": 10,
   "metadata": {},
   "outputs": [],
   "source": [
    "d = a + c\n",
    "# Now it works because the two arrays have the same shape."
   ]
  },
  {
   "cell_type": "markdown",
   "metadata": {},
   "source": [
    "# Exercise 11\n",
    "Print a and d. Notice the difference and relation of the two arrays in terms of the values? Explain."
   ]
  },
  {
   "cell_type": "code",
   "execution_count": 11,
   "metadata": {},
   "outputs": [
    {
     "name": "stdout",
     "output_type": "stream",
     "text": [
      "a: [[[0.29485645 0.48396231 0.81449444 0.84515042 0.00770593]\n",
      "  [0.33179939 0.20138757 0.2024915  0.46472928 0.12452575]\n",
      "  [0.62630023 0.83674553 0.03856966 0.46828623 0.21553106]]\n",
      "\n",
      " [[0.07156424 0.35699198 0.47138783 0.22243115 0.09188623]\n",
      "  [0.26824746 0.66983234 0.51901898 0.48640224 0.47413598]\n",
      "  [0.89664816 0.21372797 0.8071379  0.85085318 0.38207381]]]\n",
      "d: [[[1.29485645 1.48396231 1.81449444 1.84515042 1.00770593]\n",
      "  [1.33179939 1.20138757 1.2024915  1.46472928 1.12452575]\n",
      "  [1.62630023 1.83674553 1.03856966 1.46828623 1.21553106]]\n",
      "\n",
      " [[1.07156424 1.35699198 1.47138783 1.22243115 1.09188623]\n",
      "  [1.26824746 1.66983234 1.51901898 1.48640224 1.47413598]\n",
      "  [1.89664816 1.21372797 1.8071379  1.85085318 1.38207381]]]\n"
     ]
    }
   ],
   "source": [
    "print('a:', a)\n",
    "print('d:', d)\n",
    "# The values in d are the same as the values in a plus 1. This is because we added the array c to a, and c is an array of ones."
   ]
  },
  {
   "cell_type": "markdown",
   "metadata": {},
   "source": [
    "# Exercise 12\n",
    "Multiply a and c. Assign the result to e."
   ]
  },
  {
   "cell_type": "code",
   "execution_count": 12,
   "metadata": {},
   "outputs": [],
   "source": [
    "e = a * c"
   ]
  },
  {
   "cell_type": "markdown",
   "metadata": {},
   "source": [
    "# Exercise 13\n",
    "Does e equal to a? Why or why not?"
   ]
  },
  {
   "cell_type": "code",
   "execution_count": 13,
   "metadata": {},
   "outputs": [
    {
     "name": "stdout",
     "output_type": "stream",
     "text": [
      "e == a: True\n"
     ]
    }
   ],
   "source": [
    "print('e == a:', np.array_equal(e, a))\n",
    "# Yes, because we multiplied each element in a by 1 (the corresponding element in c), so the values in e are the same as in a."
   ]
  },
  {
   "cell_type": "markdown",
   "metadata": {},
   "source": [
    "# Exercise 14\n",
    "Identify the max, min, and mean values in d. Assign those values to variables \"d_max\", \"d_min\", and \"d_mean\""
   ]
  },
  {
   "cell_type": "code",
   "execution_count": 14,
   "metadata": {},
   "outputs": [
    {
     "name": "stdout",
     "output_type": "stream",
     "text": [
      "d_max: 1.8966481609903685\n",
      "d_min: 1.0077059285844094\n",
      "d_mean: 1.4246291740009793\n"
     ]
    }
   ],
   "source": [
    "d_max = np.max(d)\n",
    "d_min = np.min(d)\n",
    "d_mean = np.mean(d)\n",
    "\n",
    "print('d_max:', d_max)\n",
    "print('d_min:', d_min)\n",
    "print('d_mean:', d_mean)"
   ]
  },
  {
   "cell_type": "markdown",
   "metadata": {},
   "source": [
    "# Exercise 15\n",
    "Now we want to label the values in d. First create an empty array \"f\" with the same shape (i.e. 2x3x5) as d using `np.empty`."
   ]
  },
  {
   "cell_type": "code",
   "execution_count": 15,
   "metadata": {},
   "outputs": [],
   "source": [
    "f = np.empty((2,3,5))"
   ]
  },
  {
   "cell_type": "markdown",
   "metadata": {},
   "source": [
    "# Exercise 16\n",
    "Populate the values in f. For each value in d, if it's larger than d_min but smaller than d_mean, assign 25 to the corresponding value in f.\n",
    "\n",
    "If a value in d is larger than d_mean but smaller than d_max, assign 75 to the corresponding value in f.\n",
    "\n",
    "If a value equals to d_mean, assign 50 to the corresponding value in f.\n",
    "\n",
    "Assign 0 to the corresponding value(s) in f for d_min in d.\n",
    "\n",
    "Assign 100 to the corresponding value(s) in f for d_max in d.\n",
    "\n",
    "In the end, f should have only the following values: 0, 25, 50, 75, and 100.\n",
    "\n",
    "Note: you don't have to use Numpy in this question."
   ]
  },
  {
   "cell_type": "code",
   "execution_count": 16,
   "metadata": {},
   "outputs": [],
   "source": [
    "for i in range(d.shape[0]):\n",
    "    for j in range(d.shape[1]):\n",
    "        for k in range(d.shape[2]):\n",
    "            if d[i,j,k] > d_min and d[i,j,k] < d_mean:\n",
    "                f[i,j,k] = 25\n",
    "            elif d[i,j,k] > d_mean and d[i,j,k] < d_max:\n",
    "                f[i,j,k] = 75\n",
    "            elif d[i,j,k] == d_mean:\n",
    "                f[i,j,k] = 50\n",
    "            elif d[i,j,k] == d_min:\n",
    "                f[i,j,k] = 0\n",
    "            elif d[i,j,k] == d_max:\n",
    "                f[i,j,k] = 100"
   ]
  },
  {
   "cell_type": "markdown",
   "metadata": {},
   "source": [
    "# Exercise 17\n",
    "Print d and f. Do you have your expected f?\n",
    "\n",
    "For instance, if your d is:\n",
    "```python\n",
    "array([[[1.85836099, 1.67064465, 1.62576044, 1.40243961, 1.88454931],\n",
    "        [1.75354326, 1.69403643, 1.36729252, 1.61415071, 1.12104981],\n",
    "        [1.72201435, 1.1862918 , 1.87078449, 1.7726778 , 1.88180042]],\n",
    "       [[1.44747908, 1.31673383, 1.02000951, 1.52218947, 1.97066381],\n",
    "        [1.79129243, 1.74983003, 1.96028037, 1.85166831, 1.65450881],\n",
    "        [1.18068344, 1.9587381 , 1.00656599, 1.93402165, 1.73514584]]])\n",
    "```\n",
    "Your f should be:\n",
    "```python\n",
    "array([[[ 75.,  75.,  75.,  25.,  75.],\n",
    "        [ 75.,  75.,  25.,  25.,  25.],\n",
    "        [ 75.,  25.,  75.,  75.,  75.]],\n",
    "       [[ 25.,  25.,  25.,  25., 100.],\n",
    "        [ 75.,  75.,  75.,  75.,  75.],\n",
    "        [ 25.,  75.,   0.,  75.,  75.]]])\n",
    "```"
   ]
  },
  {
   "cell_type": "code",
   "execution_count": 17,
   "metadata": {},
   "outputs": [
    {
     "name": "stdout",
     "output_type": "stream",
     "text": [
      "d: [[[1.29485645 1.48396231 1.81449444 1.84515042 1.00770593]\n",
      "  [1.33179939 1.20138757 1.2024915  1.46472928 1.12452575]\n",
      "  [1.62630023 1.83674553 1.03856966 1.46828623 1.21553106]]\n",
      "\n",
      " [[1.07156424 1.35699198 1.47138783 1.22243115 1.09188623]\n",
      "  [1.26824746 1.66983234 1.51901898 1.48640224 1.47413598]\n",
      "  [1.89664816 1.21372797 1.8071379  1.85085318 1.38207381]]]\n",
      "f: [[[ 25.  75.  75.  75.   0.]\n",
      "  [ 25.  25.  25.  75.  25.]\n",
      "  [ 75.  75.  25.  75.  25.]]\n",
      "\n",
      " [[ 25.  25.  75.  25.  25.]\n",
      "  [ 25.  75.  75.  75.  75.]\n",
      "  [100.  25.  75.  75.  25.]]]\n"
     ]
    }
   ],
   "source": [
    "print('d:', d)\n",
    "print('f:', f)"
   ]
  },
  {
   "cell_type": "markdown",
   "metadata": {},
   "source": [
    "# Exercise 18 - Bonus question\n",
    "Instead of using numbers (i.e. 0, 25, 50, 75, and 100), how to use string values (\"A\", \"B\", \"C\", \"D\", and \"E\") to label the array elements?\n",
    "\n",
    "You are expecting the result to be:\n",
    "```python\n",
    "array([[[ 'D',  'D',  'D',  'B',  'D'],\n",
    "        [ 'D',  'D',  'B',  'B',  'B'],\n",
    "        [ 'D',  'B',  'D',  'D',  'D']],\n",
    "       [[ 'B',  'B',  'B',  'B',  'E'],\n",
    "        [ 'D',  'D',  'D',  'D',  'D'],\n",
    "        [ 'B',  'D',   'A',  'D', 'D']]])\n",
    "```\n",
    "Again, you don't need Numpy in this question."
   ]
  },
  {
   "cell_type": "code",
   "execution_count": 18,
   "metadata": {},
   "outputs": [
    {
     "name": "stdout",
     "output_type": "stream",
     "text": [
      "f: [[['B' 'D' 'D' 'D' 'A']\n",
      "  ['B' 'B' 'B' 'D' 'B']\n",
      "  ['D' 'D' 'B' 'D' 'B']]\n",
      "\n",
      " [['B' 'B' 'D' 'B' 'B']\n",
      "  ['B' 'D' 'D' 'D' 'D']\n",
      "  ['E' 'B' 'D' 'D' 'B']]]\n"
     ]
    }
   ],
   "source": [
    "f = f.astype(str)\n",
    "f[f == '0.0'] = 'A'\n",
    "f[f == '25.0'] = 'B'\n",
    "f[f == '50.0'] = 'C'\n",
    "f[f == '75.0'] = 'D'\n",
    "f[f == '100.0'] = 'E'\n",
    "print('f:', f)"
   ]
  }
 ],
 "metadata": {
  "kernelspec": {
   "display_name": "Python 3",
   "language": "python",
   "name": "python3"
  },
  "language_info": {
   "codemirror_mode": {
    "name": "ipython",
    "version": 3
   },
   "file_extension": ".py",
   "mimetype": "text/x-python",
   "name": "python",
   "nbconvert_exporter": "python",
   "pygments_lexer": "ipython3",
   "version": "3.9.13"
  }
 },
 "nbformat": 4,
 "nbformat_minor": 4
}
